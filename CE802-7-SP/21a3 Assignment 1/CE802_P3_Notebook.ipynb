{
 "cells": [
  {
   "cell_type": "markdown",
   "id": "329b0fa3-0279-43a5-aac2-168f55ff76db",
   "metadata": {},
   "source": [
    "## 1. Data Processing\n",
    "## Here we are going to import and install all the necessary and required library packages "
   ]
  },
  {
   "cell_type": "code",
   "execution_count": 1,
   "id": "f1827fac-58a9-4a79-a6b2-0748c55d90ec",
   "metadata": {},
   "outputs": [
    {
     "name": "stdout",
     "output_type": "stream",
     "text": [
      "Requirement already satisfied: lightgbm in c:\\users\\karan bhatt\\appdata\\roaming\\python\\python39\\site-packages (3.3.2)\n",
      "Requirement already satisfied: wheel in c:\\users\\karan bhatt\\anaconda3\\lib\\site-packages (from lightgbm) (0.37.0)\n",
      "Requirement already satisfied: scikit-learn!=0.22.0 in c:\\users\\karan bhatt\\anaconda3\\lib\\site-packages (from lightgbm) (0.24.2)\n",
      "Requirement already satisfied: scipy in c:\\users\\karan bhatt\\anaconda3\\lib\\site-packages (from lightgbm) (1.7.1)\n",
      "Requirement already satisfied: numpy in c:\\users\\karan bhatt\\anaconda3\\lib\\site-packages (from lightgbm) (1.20.3)\n",
      "Requirement already satisfied: joblib>=0.11 in c:\\users\\karan bhatt\\anaconda3\\lib\\site-packages (from scikit-learn!=0.22.0->lightgbm) (1.1.0)\n",
      "Requirement already satisfied: threadpoolctl>=2.0.0 in c:\\users\\karan bhatt\\anaconda3\\lib\\site-packages (from scikit-learn!=0.22.0->lightgbm) (2.2.0)\n"
     ]
    }
   ],
   "source": [
    "!pip install lightgbm"
   ]
  },
  {
   "cell_type": "code",
   "execution_count": 2,
   "id": "8bb179bd-2b71-4b40-ad58-c410c5c6c33e",
   "metadata": {},
   "outputs": [],
   "source": [
    "import numpy as np\n",
    "from sklearn.svm import SVR\n",
    "import pandas as pd \n",
    "import seaborn as sns\n",
    "from sklearn.metrics import mean_squared_error\n",
    "import matplotlib.pyplot as plt\n",
    "import plotly.express as px\n",
    "from sklearn.model_selection import train_test_split\n",
    "%matplotlib inline\n",
    "from sklearn.linear_model import LinearRegression\n",
    "import lightgbm as ltb\n",
    "from sklearn.tree import DecisionTreeRegressor\n",
    "from sklearn.ensemble import RandomForestRegressor\n",
    "from sklearn.ensemble import ExtraTreesRegressor\n",
    "import sklearn.metrics as metrics\n",
    "import warnings\n",
    "warnings.filterwarnings('ignore')\n",
    "# Import label encoder\n",
    "from sklearn import preprocessing\n",
    "from sklearn.preprocessing import StandardScaler\n",
    "from matplotlib import pyplot"
   ]
  },
  {
   "cell_type": "markdown",
   "id": "8c55ebba",
   "metadata": {},
   "source": [
    "## checking data whether it is imported and loaded or not"
   ]
  },
  {
   "cell_type": "code",
   "execution_count": 3,
   "id": "2560b054-0cfc-4faa-8d35-111a41be7c25",
   "metadata": {},
   "outputs": [
    {
     "data": {
      "text/html": [
       "<div>\n",
       "<style scoped>\n",
       "    .dataframe tbody tr th:only-of-type {\n",
       "        vertical-align: middle;\n",
       "    }\n",
       "\n",
       "    .dataframe tbody tr th {\n",
       "        vertical-align: top;\n",
       "    }\n",
       "\n",
       "    .dataframe thead th {\n",
       "        text-align: right;\n",
       "    }\n",
       "</style>\n",
       "<table border=\"1\" class=\"dataframe\">\n",
       "  <thead>\n",
       "    <tr style=\"text-align: right;\">\n",
       "      <th></th>\n",
       "      <th>F1</th>\n",
       "      <th>F2</th>\n",
       "      <th>F3</th>\n",
       "      <th>F4</th>\n",
       "      <th>F5</th>\n",
       "      <th>F6</th>\n",
       "      <th>F7</th>\n",
       "      <th>F8</th>\n",
       "      <th>F9</th>\n",
       "      <th>F10</th>\n",
       "      <th>F11</th>\n",
       "      <th>F12</th>\n",
       "      <th>F13</th>\n",
       "      <th>F14</th>\n",
       "      <th>F15</th>\n",
       "      <th>F16</th>\n",
       "      <th>Target</th>\n",
       "    </tr>\n",
       "  </thead>\n",
       "  <tbody>\n",
       "    <tr>\n",
       "      <th>1495</th>\n",
       "      <td>90.80</td>\n",
       "      <td>9</td>\n",
       "      <td>65.28</td>\n",
       "      <td>Rest</td>\n",
       "      <td>-20.34</td>\n",
       "      <td>1534.28</td>\n",
       "      <td>957.56</td>\n",
       "      <td>-8.74</td>\n",
       "      <td>2.66</td>\n",
       "      <td>296.32</td>\n",
       "      <td>-260.19</td>\n",
       "      <td>6.24</td>\n",
       "      <td>11.24</td>\n",
       "      <td>12</td>\n",
       "      <td>Very high</td>\n",
       "      <td>1253.58</td>\n",
       "      <td>110.45</td>\n",
       "    </tr>\n",
       "    <tr>\n",
       "      <th>1496</th>\n",
       "      <td>79.23</td>\n",
       "      <td>3</td>\n",
       "      <td>2869.02</td>\n",
       "      <td>Europe</td>\n",
       "      <td>-9.21</td>\n",
       "      <td>1902.12</td>\n",
       "      <td>889.62</td>\n",
       "      <td>-12.52</td>\n",
       "      <td>8.72</td>\n",
       "      <td>275.64</td>\n",
       "      <td>-382.59</td>\n",
       "      <td>19.98</td>\n",
       "      <td>22.61</td>\n",
       "      <td>12</td>\n",
       "      <td>Very high</td>\n",
       "      <td>14809.94</td>\n",
       "      <td>2672.58</td>\n",
       "    </tr>\n",
       "    <tr>\n",
       "      <th>1497</th>\n",
       "      <td>72.74</td>\n",
       "      <td>3</td>\n",
       "      <td>22.08</td>\n",
       "      <td>Rest</td>\n",
       "      <td>-22.83</td>\n",
       "      <td>1720.91</td>\n",
       "      <td>294.80</td>\n",
       "      <td>-11.67</td>\n",
       "      <td>8.58</td>\n",
       "      <td>294.39</td>\n",
       "      <td>-469.68</td>\n",
       "      <td>6.06</td>\n",
       "      <td>17.10</td>\n",
       "      <td>16</td>\n",
       "      <td>Very high</td>\n",
       "      <td>7310.66</td>\n",
       "      <td>1722.09</td>\n",
       "    </tr>\n",
       "    <tr>\n",
       "      <th>1498</th>\n",
       "      <td>87.16</td>\n",
       "      <td>12</td>\n",
       "      <td>4.32</td>\n",
       "      <td>Europe</td>\n",
       "      <td>-8.43</td>\n",
       "      <td>1213.86</td>\n",
       "      <td>1526.42</td>\n",
       "      <td>-13.21</td>\n",
       "      <td>3.60</td>\n",
       "      <td>236.67</td>\n",
       "      <td>-335.64</td>\n",
       "      <td>20.40</td>\n",
       "      <td>22.14</td>\n",
       "      <td>10</td>\n",
       "      <td>Low</td>\n",
       "      <td>15269.16</td>\n",
       "      <td>323.48</td>\n",
       "    </tr>\n",
       "    <tr>\n",
       "      <th>1499</th>\n",
       "      <td>95.52</td>\n",
       "      <td>21</td>\n",
       "      <td>0.63</td>\n",
       "      <td>USA</td>\n",
       "      <td>-18.72</td>\n",
       "      <td>1122.09</td>\n",
       "      <td>1321.72</td>\n",
       "      <td>-11.73</td>\n",
       "      <td>3.74</td>\n",
       "      <td>275.92</td>\n",
       "      <td>-419.70</td>\n",
       "      <td>66.48</td>\n",
       "      <td>19.93</td>\n",
       "      <td>2</td>\n",
       "      <td>Very low</td>\n",
       "      <td>18033.58</td>\n",
       "      <td>3591.35</td>\n",
       "    </tr>\n",
       "  </tbody>\n",
       "</table>\n",
       "</div>"
      ],
      "text/plain": [
       "         F1  F2       F3      F4     F5       F6       F7     F8    F9  \\\n",
       "1495  90.80   9    65.28    Rest -20.34  1534.28   957.56  -8.74  2.66   \n",
       "1496  79.23   3  2869.02  Europe  -9.21  1902.12   889.62 -12.52  8.72   \n",
       "1497  72.74   3    22.08    Rest -22.83  1720.91   294.80 -11.67  8.58   \n",
       "1498  87.16  12     4.32  Europe  -8.43  1213.86  1526.42 -13.21  3.60   \n",
       "1499  95.52  21     0.63     USA -18.72  1122.09  1321.72 -11.73  3.74   \n",
       "\n",
       "         F10     F11    F12    F13  F14        F15       F16   Target  \n",
       "1495  296.32 -260.19   6.24  11.24   12  Very high   1253.58   110.45  \n",
       "1496  275.64 -382.59  19.98  22.61   12  Very high  14809.94  2672.58  \n",
       "1497  294.39 -469.68   6.06  17.10   16  Very high   7310.66  1722.09  \n",
       "1498  236.67 -335.64  20.40  22.14   10        Low  15269.16   323.48  \n",
       "1499  275.92 -419.70  66.48  19.93    2   Very low  18033.58  3591.35  "
      ]
     },
     "execution_count": 3,
     "metadata": {},
     "output_type": "execute_result"
    }
   ],
   "source": [
    "df=pd.read_csv(\"CE802_P3_Data.csv\")\n",
    "df.tail()"
   ]
  },
  {
   "cell_type": "code",
   "execution_count": 4,
   "id": "67ccc5b0-e450-4933-8e45-33858954fe87",
   "metadata": {},
   "outputs": [
    {
     "data": {
      "text/html": [
       "<div>\n",
       "<style scoped>\n",
       "    .dataframe tbody tr th:only-of-type {\n",
       "        vertical-align: middle;\n",
       "    }\n",
       "\n",
       "    .dataframe tbody tr th {\n",
       "        vertical-align: top;\n",
       "    }\n",
       "\n",
       "    .dataframe thead th {\n",
       "        text-align: right;\n",
       "    }\n",
       "</style>\n",
       "<table border=\"1\" class=\"dataframe\">\n",
       "  <thead>\n",
       "    <tr style=\"text-align: right;\">\n",
       "      <th></th>\n",
       "      <th>F1</th>\n",
       "      <th>F2</th>\n",
       "      <th>F3</th>\n",
       "      <th>F4</th>\n",
       "      <th>F5</th>\n",
       "      <th>F6</th>\n",
       "      <th>F7</th>\n",
       "      <th>F8</th>\n",
       "      <th>F9</th>\n",
       "      <th>F10</th>\n",
       "      <th>F11</th>\n",
       "      <th>F12</th>\n",
       "      <th>F13</th>\n",
       "      <th>F14</th>\n",
       "      <th>F15</th>\n",
       "      <th>F16</th>\n",
       "      <th>Target</th>\n",
       "    </tr>\n",
       "  </thead>\n",
       "  <tbody>\n",
       "    <tr>\n",
       "      <th>0</th>\n",
       "      <td>61.22</td>\n",
       "      <td>6</td>\n",
       "      <td>0.00</td>\n",
       "      <td>UK</td>\n",
       "      <td>-14.91</td>\n",
       "      <td>1030.95</td>\n",
       "      <td>614.70</td>\n",
       "      <td>-8.40</td>\n",
       "      <td>11.96</td>\n",
       "      <td>275.99</td>\n",
       "      <td>-333.60</td>\n",
       "      <td>1.86</td>\n",
       "      <td>19.48</td>\n",
       "      <td>6</td>\n",
       "      <td>Very high</td>\n",
       "      <td>7841.50</td>\n",
       "      <td>1605.31</td>\n",
       "    </tr>\n",
       "    <tr>\n",
       "      <th>1</th>\n",
       "      <td>86.58</td>\n",
       "      <td>12</td>\n",
       "      <td>20.07</td>\n",
       "      <td>Europe</td>\n",
       "      <td>0.57</td>\n",
       "      <td>1059.87</td>\n",
       "      <td>1354.00</td>\n",
       "      <td>-9.97</td>\n",
       "      <td>3.80</td>\n",
       "      <td>347.10</td>\n",
       "      <td>-356.04</td>\n",
       "      <td>6.39</td>\n",
       "      <td>22.15</td>\n",
       "      <td>2</td>\n",
       "      <td>Very low</td>\n",
       "      <td>25589.98</td>\n",
       "      <td>0.00</td>\n",
       "    </tr>\n",
       "    <tr>\n",
       "      <th>2</th>\n",
       "      <td>75.95</td>\n",
       "      <td>6</td>\n",
       "      <td>45.00</td>\n",
       "      <td>USA</td>\n",
       "      <td>-1.29</td>\n",
       "      <td>1320.03</td>\n",
       "      <td>1477.96</td>\n",
       "      <td>-10.02</td>\n",
       "      <td>20.32</td>\n",
       "      <td>345.69</td>\n",
       "      <td>-353.58</td>\n",
       "      <td>13.14</td>\n",
       "      <td>21.87</td>\n",
       "      <td>8</td>\n",
       "      <td>Low</td>\n",
       "      <td>16849.14</td>\n",
       "      <td>3241.77</td>\n",
       "    </tr>\n",
       "    <tr>\n",
       "      <th>3</th>\n",
       "      <td>156.57</td>\n",
       "      <td>12</td>\n",
       "      <td>12.93</td>\n",
       "      <td>USA</td>\n",
       "      <td>-4.83</td>\n",
       "      <td>1696.92</td>\n",
       "      <td>750.14</td>\n",
       "      <td>-10.98</td>\n",
       "      <td>4.78</td>\n",
       "      <td>253.37</td>\n",
       "      <td>-254.37</td>\n",
       "      <td>15.48</td>\n",
       "      <td>28.11</td>\n",
       "      <td>10</td>\n",
       "      <td>Very low</td>\n",
       "      <td>10791.06</td>\n",
       "      <td>0.00</td>\n",
       "    </tr>\n",
       "    <tr>\n",
       "      <th>4</th>\n",
       "      <td>101.27</td>\n",
       "      <td>3</td>\n",
       "      <td>0.51</td>\n",
       "      <td>Rest</td>\n",
       "      <td>-26.28</td>\n",
       "      <td>1451.37</td>\n",
       "      <td>251.06</td>\n",
       "      <td>-9.71</td>\n",
       "      <td>2.06</td>\n",
       "      <td>242.35</td>\n",
       "      <td>-379.77</td>\n",
       "      <td>3.90</td>\n",
       "      <td>23.84</td>\n",
       "      <td>10</td>\n",
       "      <td>Very low</td>\n",
       "      <td>14760.66</td>\n",
       "      <td>336.25</td>\n",
       "    </tr>\n",
       "  </tbody>\n",
       "</table>\n",
       "</div>"
      ],
      "text/plain": [
       "       F1  F2     F3      F4     F5       F6       F7     F8     F9     F10  \\\n",
       "0   61.22   6   0.00      UK -14.91  1030.95   614.70  -8.40  11.96  275.99   \n",
       "1   86.58  12  20.07  Europe   0.57  1059.87  1354.00  -9.97   3.80  347.10   \n",
       "2   75.95   6  45.00     USA  -1.29  1320.03  1477.96 -10.02  20.32  345.69   \n",
       "3  156.57  12  12.93     USA  -4.83  1696.92   750.14 -10.98   4.78  253.37   \n",
       "4  101.27   3   0.51    Rest -26.28  1451.37   251.06  -9.71   2.06  242.35   \n",
       "\n",
       "      F11    F12    F13  F14        F15       F16   Target  \n",
       "0 -333.60   1.86  19.48    6  Very high   7841.50  1605.31  \n",
       "1 -356.04   6.39  22.15    2   Very low  25589.98     0.00  \n",
       "2 -353.58  13.14  21.87    8        Low  16849.14  3241.77  \n",
       "3 -254.37  15.48  28.11   10   Very low  10791.06     0.00  \n",
       "4 -379.77   3.90  23.84   10   Very low  14760.66   336.25  "
      ]
     },
     "execution_count": 4,
     "metadata": {},
     "output_type": "execute_result"
    }
   ],
   "source": [
    "df.head()"
   ]
  },
  {
   "cell_type": "markdown",
   "id": "2261aa7a",
   "metadata": {},
   "source": [
    "### dataframe shape"
   ]
  },
  {
   "cell_type": "code",
   "execution_count": 5,
   "id": "7cff6890-d52e-4072-9712-68ab922f23f3",
   "metadata": {},
   "outputs": [
    {
     "data": {
      "text/plain": [
       "(1500, 17)"
      ]
     },
     "execution_count": 5,
     "metadata": {},
     "output_type": "execute_result"
    }
   ],
   "source": [
    "df.shape"
   ]
  },
  {
   "cell_type": "markdown",
   "id": "cab84da2",
   "metadata": {},
   "source": [
    "### checking null values in data if there's any"
   ]
  },
  {
   "cell_type": "code",
   "execution_count": 6,
   "id": "1f18be8b-e342-449a-9cb1-a98dd81afc69",
   "metadata": {},
   "outputs": [
    {
     "data": {
      "text/plain": [
       "F1        0\n",
       "F2        0\n",
       "F3        0\n",
       "F4        0\n",
       "F5        0\n",
       "F6        0\n",
       "F7        0\n",
       "F8        0\n",
       "F9        0\n",
       "F10       0\n",
       "F11       0\n",
       "F12       0\n",
       "F13       0\n",
       "F14       0\n",
       "F15       0\n",
       "F16       0\n",
       "Target    0\n",
       "dtype: int64"
      ]
     },
     "execution_count": 6,
     "metadata": {},
     "output_type": "execute_result"
    }
   ],
   "source": [
    "df.isnull().sum()"
   ]
  },
  {
   "cell_type": "markdown",
   "id": "7948f572-802e-416d-ab80-0bd78cf3a2fd",
   "metadata": {},
   "source": [
    "## 2. Exploratory data analysis"
   ]
  },
  {
   "cell_type": "markdown",
   "id": "e6a18d17",
   "metadata": {},
   "source": [
    "### Here I have used the pie chart to show the feature F15’s distribution"
   ]
  },
  {
   "cell_type": "code",
   "execution_count": 7,
   "id": "0c17afad-340b-410d-8006-ecebd0f1de22",
   "metadata": {},
   "outputs": [
    {
     "name": "stdout",
     "output_type": "stream",
     "text": [
      "Very low     312\n",
      "Low          310\n",
      "High         301\n",
      "Very high    290\n",
      "Medium       287\n",
      "Name: F15, dtype: int64\n"
     ]
    },
    {
     "data": {
      "text/plain": [
       "Text(0.5, 0, 'F15')"
      ]
     },
     "execution_count": 7,
     "metadata": {},
     "output_type": "execute_result"
    },
    {
     "data": {
      "image/png": "[encoded data removed]",
      "text/plain": [
       "<Figure size 720x360 with 1 Axes>"
      ]
     },
     "metadata": {},
     "output_type": "display_data"
    }
   ],
   "source": [
    "print(df['F15'].value_counts())\n",
    "plt.figure(figsize=(10,5))\n",
    "df['F15'].value_counts(normalize=True).plot(kind='pie')\n",
    "plt.ylabel('counts')\n",
    "plt.xlabel('F15')"
   ]
  },
  {
   "cell_type": "code",
   "execution_count": 8,
   "id": "2f4bf867-aa08-4b82-af1e-5a68917d82f4",
   "metadata": {},
   "outputs": [
    {
     "name": "stdout",
     "output_type": "stream",
     "text": [
      "USA       407\n",
      "Europe    380\n",
      "Rest      360\n",
      "UK        353\n",
      "Name: F4, dtype: int64\n"
     ]
    },
    {
     "data": {
      "text/plain": [
       "Text(0.5, 0, 'F4')"
      ]
     },
     "execution_count": 8,
     "metadata": {},
     "output_type": "execute_result"
    },
    {
     "data": {
      "image/png": "[encoded data removed]",
      "text/plain": [
       "<Figure size 720x360 with 1 Axes>"
      ]
     },
     "metadata": {
      "needs_background": "light"
     },
     "output_type": "display_data"
    }
   ],
   "source": [
    "print(df['F4'].value_counts())\n",
    "plt.figure(figsize=(10,5))\n",
    "df['F4'].value_counts(normalize=True).plot(kind='barh')\n",
    "plt.ylabel('counts')\n",
    "plt.xlabel('F4')"
   ]
  },
  {
   "cell_type": "markdown",
   "id": "1c891e21",
   "metadata": {},
   "source": [
    "### checking target amount with different volumes"
   ]
  },
  {
   "cell_type": "code",
   "execution_count": 9,
   "id": "443c7d63-46ec-44be-9379-bc3b6a5c15b5",
   "metadata": {},
   "outputs": [
    {
     "data": {
      "text/plain": [
       "<AxesSubplot:xlabel='Target', ylabel='F15'>"
      ]
     },
     "execution_count": 9,
     "metadata": {},
     "output_type": "execute_result"
    },
    {
     "data": {
      "image/png": "[encoded data removed]",
      "text/plain": [
       "<Figure size 432x288 with 1 Axes>"
      ]
     },
     "metadata": {
      "needs_background": "light"
     },
     "output_type": "display_data"
    }
   ],
   "source": [
    "sns.barplot(x='Target',y='F15',data=df)"
   ]
  },
  {
   "cell_type": "code",
   "execution_count": 10,
   "id": "77e98b2a-e2d7-468c-932e-2d30ce109164",
   "metadata": {},
   "outputs": [
    {
     "name": "stdout",
     "output_type": "stream",
     "text": [
      "[1605.31    0.   3241.77 ... 1722.09  323.48 3591.35]\n"
     ]
    }
   ],
   "source": [
    "print(df[\"Target\"].unique())"
   ]
  },
  {
   "cell_type": "markdown",
   "id": "38b60700",
   "metadata": {},
   "source": [
    "### We can clearly see that US has a high diabetic patient than any other countries because their medicine intake is high"
   ]
  },
  {
   "cell_type": "code",
   "execution_count": 11,
   "id": "b88510f7-2cf6-4e09-8bf0-514ebf1422e1",
   "metadata": {},
   "outputs": [
    {
     "data": {
      "text/plain": [
       "<AxesSubplot:xlabel='F4', ylabel='count'>"
      ]
     },
     "execution_count": 11,
     "metadata": {},
     "output_type": "execute_result"
    },
    {
     "data": {
      "image/png": "[encoded data removed]",
      "text/plain": [
       "<Figure size 432x288 with 1 Axes>"
      ]
     },
     "metadata": {
      "needs_background": "light"
     },
     "output_type": "display_data"
    }
   ],
   "source": [
    "sns.countplot(x=\"F4\", data=df)"
   ]
  },
  {
   "cell_type": "markdown",
   "id": "23d07b7a",
   "metadata": {},
   "source": [
    "### checking how our features are correlated to each other"
   ]
  },
  {
   "cell_type": "code",
   "execution_count": 12,
   "id": "44159c6c-1116-4027-a9cf-3263256d01fd",
   "metadata": {},
   "outputs": [],
   "source": [
    "corrdata = df.corr()"
   ]
  },
  {
   "cell_type": "code",
   "execution_count": 13,
   "id": "bd1fd128-911e-4382-9074-abd85e334706",
   "metadata": {},
   "outputs": [
    {
     "data": {
      "text/plain": [
       "<AxesSubplot:>"
      ]
     },
     "execution_count": 13,
     "metadata": {},
     "output_type": "execute_result"
    },
    {
     "data": {
      "image/png": "[encoded data removed]",
      "text/plain": [
       "<Figure size 648x576 with 2 Axes>"
      ]
     },
     "metadata": {
      "needs_background": "light"
     },
     "output_type": "display_data"
    }
   ],
   "source": [
    "corrmat = df.corr()\n",
    "  \n",
    "f, ax = plt.subplots(figsize =(9, 8))\n",
    "sns.heatmap(corrmat, ax = ax, cmap =\"RdYlGn_r\", linewidths = 0.1)"
   ]
  },
  {
   "cell_type": "code",
   "execution_count": null,
   "id": "8b3c3589-595b-4696-9656-0384bd06ca95",
   "metadata": {},
   "outputs": [],
   "source": []
  },
  {
   "cell_type": "markdown",
   "id": "28b50bba-660e-400d-a23b-1176d374a84e",
   "metadata": {},
   "source": [
    "## Now we are starting to build our model\n",
    "\n",
    "## we will focuse on the algorithms stated below\n",
    "\n",
    "\n",
    "### 1. Linear regression\n",
    "### 2. LightGBM\n",
    "### 3. Extra tree regression\n",
    "### 4. Suppport vector machine\n",
    "\n"
   ]
  },
  {
   "cell_type": "code",
   "execution_count": 14,
   "id": "8f0948e0-4e0c-410a-8e56-9fc2f7fb501b",
   "metadata": {},
   "outputs": [],
   "source": [
    "# label encoding our column.\n",
    "label_encoder = preprocessing.LabelEncoder()\n",
    "df['F15']= label_encoder.fit_transform(df['F15'])"
   ]
  },
  {
   "cell_type": "code",
   "execution_count": 15,
   "id": "e34b376e-e8cb-446d-97d8-da66eabf8ae3",
   "metadata": {},
   "outputs": [
    {
     "data": {
      "text/plain": [
       "<AxesSubplot:xlabel='F15', ylabel='Count'>"
      ]
     },
     "execution_count": 15,
     "metadata": {},
     "output_type": "execute_result"
    },
    {
     "data": {
      "image/png": "[encoded data removed]",
      "text/plain": [
       "<Figure size 432x288 with 1 Axes>"
      ]
     },
     "metadata": {
      "needs_background": "light"
     },
     "output_type": "display_data"
    }
   ],
   "source": [
    "sns.histplot(df['F15'],bins=30)  "
   ]
  },
  {
   "cell_type": "markdown",
   "id": "cc5c3ff4",
   "metadata": {},
   "source": [
    "### Generating  dummies from the country variable"
   ]
  },
  {
   "cell_type": "code",
   "execution_count": 16,
   "id": "117dd63e-538d-490a-ad54-b85c2174013f",
   "metadata": {},
   "outputs": [],
   "source": [
    "df=pd.get_dummies(df, columns=['F4'])"
   ]
  },
  {
   "cell_type": "markdown",
   "id": "acfd8006",
   "metadata": {},
   "source": [
    "### checking our data after generating dummies"
   ]
  },
  {
   "cell_type": "code",
   "execution_count": 17,
   "id": "6a288984-cb02-43ca-b1c2-1d63c93cee58",
   "metadata": {},
   "outputs": [
    {
     "name": "stdout",
     "output_type": "stream",
     "text": [
      "<class 'pandas.core.frame.DataFrame'>\n",
      "RangeIndex: 1500 entries, 0 to 1499\n",
      "Data columns (total 20 columns):\n",
      " #   Column     Non-Null Count  Dtype  \n",
      "---  ------     --------------  -----  \n",
      " 0   F1         1500 non-null   float64\n",
      " 1   F2         1500 non-null   int64  \n",
      " 2   F3         1500 non-null   float64\n",
      " 3   F5         1500 non-null   float64\n",
      " 4   F6         1500 non-null   float64\n",
      " 5   F7         1500 non-null   float64\n",
      " 6   F8         1500 non-null   float64\n",
      " 7   F9         1500 non-null   float64\n",
      " 8   F10        1500 non-null   float64\n",
      " 9   F11        1500 non-null   float64\n",
      " 10  F12        1500 non-null   float64\n",
      " 11  F13        1500 non-null   float64\n",
      " 12  F14        1500 non-null   int64  \n",
      " 13  F15        1500 non-null   int32  \n",
      " 14  F16        1500 non-null   float64\n",
      " 15  Target     1500 non-null   float64\n",
      " 16  F4_Europe  1500 non-null   uint8  \n",
      " 17  F4_Rest    1500 non-null   uint8  \n",
      " 18  F4_UK      1500 non-null   uint8  \n",
      " 19  F4_USA     1500 non-null   uint8  \n",
      "dtypes: float64(13), int32(1), int64(2), uint8(4)\n",
      "memory usage: 187.6 KB\n"
     ]
    }
   ],
   "source": [
    "df.info()"
   ]
  },
  {
   "cell_type": "code",
   "execution_count": 18,
   "id": "e139b289-08c0-4ee5-af90-13991d377d32",
   "metadata": {},
   "outputs": [],
   "source": [
    "#defining our algorithms\n",
    "svector = SVR(kernel=\"linear\")\n",
    "light = ltb.LGBMRegressor()\n",
    "linear  =  LinearRegression()\n",
    "extree = ExtraTreesRegressor()"
   ]
  },
  {
   "cell_type": "code",
   "execution_count": 19,
   "id": "d0b7bbef-5f15-4b21-b240-2b995f880f6b",
   "metadata": {},
   "outputs": [],
   "source": [
    "scaler=StandardScaler()#Standardize features"
   ]
  },
  {
   "cell_type": "markdown",
   "id": "3709e7aa-7e67-4273-8461-f067070d3cc9",
   "metadata": {},
   "source": [
    "## Splitting our data into two parts train and test \n",
    "### with 80:20 ratio"
   ]
  },
  {
   "cell_type": "code",
   "execution_count": 20,
   "id": "56956c01-4442-4f25-b24f-5e88043512de",
   "metadata": {},
   "outputs": [],
   "source": [
    "X= df[df.columns[:-1]]\n",
    "y = df[df.columns[-1]]\n",
    "\n",
    "scaled = scaler.fit_transform(X)"
   ]
  },
  {
   "cell_type": "markdown",
   "id": "4fa8fb8a-dcea-4163-8a5a-209bb828c6f7",
   "metadata": {},
   "source": [
    "## LinearRegression"
   ]
  },
  {
   "cell_type": "code",
   "execution_count": 21,
   "id": "9f07f520-bcb1-4f4f-bef4-b8182b1383f3",
   "metadata": {},
   "outputs": [],
   "source": [
    "x_train, x_val, y_train, y_val = train_test_split(scaled,y,test_size=0.25,random_state=42)"
   ]
  },
  {
   "cell_type": "markdown",
   "id": "c7711147",
   "metadata": {},
   "source": [
    "#### Training the model using t linear regression"
   ]
  },
  {
   "cell_type": "code",
   "execution_count": 22,
   "id": "2aafdba9-8738-406e-8836-c8bc05e4d21e",
   "metadata": {},
   "outputs": [],
   "source": [
    "linear.fit(x_train, y_train)\n",
    "y_test = linear.predict(x_val)"
   ]
  },
  {
   "cell_type": "code",
   "execution_count": 23,
   "id": "9125c57a-c99c-4df6-b3bc-56b3a98bd6be",
   "metadata": {},
   "outputs": [
    {
     "data": {
      "text/plain": [
       "3.0128734468675412e-31"
      ]
     },
     "execution_count": 23,
     "metadata": {},
     "output_type": "execute_result"
    }
   ],
   "source": [
    "# Model Evaluation\n",
    "linear_mse = metrics.mean_squared_error(y_val, y_test)\n",
    "linear_mse"
   ]
  },
  {
   "cell_type": "code",
   "execution_count": 24,
   "id": "d4932d0a-d463-4c88-8418-bdb7f081fffd",
   "metadata": {},
   "outputs": [
    {
     "name": "stdout",
     "output_type": "stream",
     "text": [
      "Feature: 0, Score: -0.00000\n",
      "Feature: 1, Score: 0.00000\n",
      "Feature: 2, Score: 0.00000\n",
      "Feature: 3, Score: 0.00000\n",
      "Feature: 4, Score: -0.00000\n",
      "Feature: 5, Score: 0.00000\n",
      "Feature: 6, Score: 0.00000\n",
      "Feature: 7, Score: -0.00000\n",
      "Feature: 8, Score: 0.00000\n",
      "Feature: 9, Score: -0.00000\n",
      "Feature: 10, Score: -0.00000\n",
      "Feature: 11, Score: 0.00000\n",
      "Feature: 12, Score: 0.00000\n",
      "Feature: 13, Score: 0.00000\n",
      "Feature: 14, Score: 0.00000\n",
      "Feature: 15, Score: 0.00000\n",
      "Feature: 16, Score: -0.43492\n",
      "Feature: 17, Score: -0.42708\n",
      "Feature: 18, Score: -0.42421\n"
     ]
    },
    {
     "data": {
      "image/png": "[encoded data removed]",
      "text/plain": [
       "<Figure size 432x288 with 1 Axes>"
      ]
     },
     "metadata": {
      "needs_background": "light"
     },
     "output_type": "display_data"
    }
   ],
   "source": [
    "# get importance\n",
    "importance = linear.coef_\n",
    "# summarize feature importance\n",
    "for i,v in enumerate(importance):\n",
    "    print('Feature: %0d, Score: %.5f' % (i,v))\n",
    "# plot feature importance\n",
    "pyplot.bar([x for x in range(len(importance))], importance)\n",
    "pyplot.show()"
   ]
  },
  {
   "cell_type": "markdown",
   "id": "c6f55418-292c-4820-9cb1-ef0554c8cbc3",
   "metadata": {},
   "source": [
    "## LightGBM Regressor"
   ]
  },
  {
   "cell_type": "code",
   "execution_count": 25,
   "id": "b5c22209-50fb-4e62-85c3-79c10e699882",
   "metadata": {},
   "outputs": [],
   "source": [
    "light.fit(x_train, y_train)\n",
    "y_test= light.predict(x_val)"
   ]
  },
  {
   "cell_type": "code",
   "execution_count": 26,
   "id": "41d61510-16d5-4882-a7fd-201dff874739",
   "metadata": {},
   "outputs": [
    {
     "data": {
      "text/plain": [
       "0.0015234990553690607"
      ]
     },
     "execution_count": 26,
     "metadata": {},
     "output_type": "execute_result"
    }
   ],
   "source": [
    "# Model Evaluation\n",
    "light_mse = metrics.mean_squared_error(y_val, y_test)\n",
    "light_mse \n"
   ]
  },
  {
   "cell_type": "markdown",
   "id": "fe4d4910-34e0-4912-968b-7597dcbc7906",
   "metadata": {},
   "source": [
    "## Extra tree Regressor"
   ]
  },
  {
   "cell_type": "code",
   "execution_count": 27,
   "id": "b0794b2e-d182-433c-be5a-9be0fcf9b44c",
   "metadata": {},
   "outputs": [],
   "source": [
    "extree.fit(x_train, y_train)\n",
    "y_test= extree.predict(x_val)"
   ]
  },
  {
   "cell_type": "code",
   "execution_count": 28,
   "id": "e490ea4e-14a9-4dd1-911f-f6f51031183e",
   "metadata": {},
   "outputs": [
    {
     "data": {
      "text/plain": [
       "0.0"
      ]
     },
     "execution_count": 28,
     "metadata": {},
     "output_type": "execute_result"
    }
   ],
   "source": [
    "# Model Evaluation\n",
    "extree_mse= metrics.mean_squared_error(y_val, y_test)\n",
    "extree_mse\n"
   ]
  },
  {
   "cell_type": "markdown",
   "id": "55e8242e-ff85-408e-be70-0ea6bf8e2d3e",
   "metadata": {},
   "source": [
    "## Support vector"
   ]
  },
  {
   "cell_type": "code",
   "execution_count": 29,
   "id": "43a0c80f-c78a-4050-b78d-23f35a9b171c",
   "metadata": {},
   "outputs": [],
   "source": [
    "svector.fit(x_train, y_train)\n",
    "\n",
    "y_test = svector.predict(x_val)"
   ]
  },
  {
   "cell_type": "code",
   "execution_count": 30,
   "id": "90ff8ec3-e55e-4c75-bbf8-c96a30d2d8f8",
   "metadata": {},
   "outputs": [
    {
     "data": {
      "text/plain": [
       "0.009965710833039999"
      ]
     },
     "execution_count": 30,
     "metadata": {},
     "output_type": "execute_result"
    }
   ],
   "source": [
    "# Model Evaluation\n",
    "svector_mse = metrics.mean_squared_error(y_val, y_test)\n",
    "svector_mse\n"
   ]
  },
  {
   "cell_type": "code",
   "execution_count": 31,
   "id": "474525cd-ee41-4dc4-8efd-f24d4fb79ce0",
   "metadata": {},
   "outputs": [],
   "source": [
    "Algorithms = pd.DataFrame({'Type_algo': ['Linear Regression', 'LightGBM', 'Etra tree', 'Support Vector'],'MSE': [linear_mse, light_mse, extree_mse, svector_mse]})\n"
   ]
  },
  {
   "cell_type": "code",
   "execution_count": 32,
   "id": "3b9bd4df-e2fb-4467-bc01-5cc7e7252c94",
   "metadata": {},
   "outputs": [
    {
     "data": {
      "text/html": [
       "<div>\n",
       "<style scoped>\n",
       "    .dataframe tbody tr th:only-of-type {\n",
       "        vertical-align: middle;\n",
       "    }\n",
       "\n",
       "    .dataframe tbody tr th {\n",
       "        vertical-align: top;\n",
       "    }\n",
       "\n",
       "    .dataframe thead th {\n",
       "        text-align: right;\n",
       "    }\n",
       "</style>\n",
       "<table border=\"1\" class=\"dataframe\">\n",
       "  <thead>\n",
       "    <tr style=\"text-align: right;\">\n",
       "      <th></th>\n",
       "      <th>Type_algo</th>\n",
       "      <th>MSE</th>\n",
       "    </tr>\n",
       "  </thead>\n",
       "  <tbody>\n",
       "    <tr>\n",
       "      <th>0</th>\n",
       "      <td>Linear Regression</td>\n",
       "      <td>3.012873e-31</td>\n",
       "    </tr>\n",
       "    <tr>\n",
       "      <th>1</th>\n",
       "      <td>LightGBM</td>\n",
       "      <td>1.523499e-03</td>\n",
       "    </tr>\n",
       "    <tr>\n",
       "      <th>2</th>\n",
       "      <td>Etra tree</td>\n",
       "      <td>0.000000e+00</td>\n",
       "    </tr>\n",
       "    <tr>\n",
       "      <th>3</th>\n",
       "      <td>Support Vector</td>\n",
       "      <td>9.965711e-03</td>\n",
       "    </tr>\n",
       "  </tbody>\n",
       "</table>\n",
       "</div>"
      ],
      "text/plain": [
       "           Type_algo           MSE\n",
       "0  Linear Regression  3.012873e-31\n",
       "1           LightGBM  1.523499e-03\n",
       "2          Etra tree  0.000000e+00\n",
       "3     Support Vector  9.965711e-03"
      ]
     },
     "execution_count": 32,
     "metadata": {},
     "output_type": "execute_result"
    }
   ],
   "source": [
    "Algorithms"
   ]
  },
  {
   "cell_type": "code",
   "execution_count": 33,
   "id": "58bc3401-da34-4382-8e15-01cdab2ea440",
   "metadata": {},
   "outputs": [
    {
     "data": {
      "text/html": [
       "<div>\n",
       "<style scoped>\n",
       "    .dataframe tbody tr th:only-of-type {\n",
       "        vertical-align: middle;\n",
       "    }\n",
       "\n",
       "    .dataframe tbody tr th {\n",
       "        vertical-align: top;\n",
       "    }\n",
       "\n",
       "    .dataframe thead th {\n",
       "        text-align: right;\n",
       "    }\n",
       "</style>\n",
       "<table border=\"1\" class=\"dataframe\">\n",
       "  <thead>\n",
       "    <tr style=\"text-align: right;\">\n",
       "      <th></th>\n",
       "      <th>Type_algo</th>\n",
       "      <th>MSE</th>\n",
       "    </tr>\n",
       "  </thead>\n",
       "  <tbody>\n",
       "    <tr>\n",
       "      <th>3</th>\n",
       "      <td>Support Vector</td>\n",
       "      <td>9.965711e-03</td>\n",
       "    </tr>\n",
       "    <tr>\n",
       "      <th>1</th>\n",
       "      <td>LightGBM</td>\n",
       "      <td>1.523499e-03</td>\n",
       "    </tr>\n",
       "    <tr>\n",
       "      <th>0</th>\n",
       "      <td>Linear Regression</td>\n",
       "      <td>3.012873e-31</td>\n",
       "    </tr>\n",
       "    <tr>\n",
       "      <th>2</th>\n",
       "      <td>Etra tree</td>\n",
       "      <td>0.000000e+00</td>\n",
       "    </tr>\n",
       "  </tbody>\n",
       "</table>\n",
       "</div>"
      ],
      "text/plain": [
       "           Type_algo           MSE\n",
       "3     Support Vector  9.965711e-03\n",
       "1           LightGBM  1.523499e-03\n",
       "0  Linear Regression  3.012873e-31\n",
       "2          Etra tree  0.000000e+00"
      ]
     },
     "execution_count": 33,
     "metadata": {},
     "output_type": "execute_result"
    }
   ],
   "source": [
    "Algorithms.sort_values(by='MSE', ascending=False)"
   ]
  },
  {
   "cell_type": "markdown",
   "id": "a9c67f78",
   "metadata": {},
   "source": [
    "### Linear Regression outperformed the rest algorithms while svm performed poorly\n",
    "### All other strategies were exceeded by linear regression, making it the ideal option for forecasting hold test results."
   ]
  },
  {
   "cell_type": "markdown",
   "id": "5ee1005a-384a-43bd-b07d-b8a930d4da63",
   "metadata": {},
   "source": [
    "## Final Results"
   ]
  },
  {
   "cell_type": "markdown",
   "id": "7f0625a6-8aec-436d-b982-8a1054a8e400",
   "metadata": {
    "tags": []
   },
   "source": [
    "## Using Linear regression it to predict out Hold out Test data"
   ]
  },
  {
   "cell_type": "code",
   "execution_count": 35,
   "id": "335460df-d8bb-4d14-884c-599dcf24ef2c",
   "metadata": {},
   "outputs": [
    {
     "data": {
      "text/html": [
       "<div>\n",
       "<style scoped>\n",
       "    .dataframe tbody tr th:only-of-type {\n",
       "        vertical-align: middle;\n",
       "    }\n",
       "\n",
       "    .dataframe tbody tr th {\n",
       "        vertical-align: top;\n",
       "    }\n",
       "\n",
       "    .dataframe thead th {\n",
       "        text-align: right;\n",
       "    }\n",
       "</style>\n",
       "<table border=\"1\" class=\"dataframe\">\n",
       "  <thead>\n",
       "    <tr style=\"text-align: right;\">\n",
       "      <th></th>\n",
       "      <th>F1</th>\n",
       "      <th>F2</th>\n",
       "      <th>F3</th>\n",
       "      <th>F4</th>\n",
       "      <th>F5</th>\n",
       "      <th>F6</th>\n",
       "      <th>F7</th>\n",
       "      <th>F8</th>\n",
       "      <th>F9</th>\n",
       "      <th>F10</th>\n",
       "      <th>F11</th>\n",
       "      <th>F12</th>\n",
       "      <th>F13</th>\n",
       "      <th>F14</th>\n",
       "      <th>F15</th>\n",
       "      <th>F16</th>\n",
       "      <th>Target</th>\n",
       "    </tr>\n",
       "  </thead>\n",
       "  <tbody>\n",
       "    <tr>\n",
       "      <th>0</th>\n",
       "      <td>154.97</td>\n",
       "      <td>9</td>\n",
       "      <td>0.57</td>\n",
       "      <td>USA</td>\n",
       "      <td>-14.34</td>\n",
       "      <td>1286.94</td>\n",
       "      <td>1913.38</td>\n",
       "      <td>-10.54</td>\n",
       "      <td>6.66</td>\n",
       "      <td>232.40</td>\n",
       "      <td>-440.10</td>\n",
       "      <td>12.51</td>\n",
       "      <td>22.99</td>\n",
       "      <td>4</td>\n",
       "      <td>Low</td>\n",
       "      <td>22482.82</td>\n",
       "      <td>NaN</td>\n",
       "    </tr>\n",
       "    <tr>\n",
       "      <th>1</th>\n",
       "      <td>78.99</td>\n",
       "      <td>6</td>\n",
       "      <td>2.31</td>\n",
       "      <td>USA</td>\n",
       "      <td>-16.17</td>\n",
       "      <td>1522.99</td>\n",
       "      <td>1458.10</td>\n",
       "      <td>-12.17</td>\n",
       "      <td>4.96</td>\n",
       "      <td>268.26</td>\n",
       "      <td>-328.74</td>\n",
       "      <td>21.03</td>\n",
       "      <td>20.80</td>\n",
       "      <td>12</td>\n",
       "      <td>High</td>\n",
       "      <td>17183.76</td>\n",
       "      <td>NaN</td>\n",
       "    </tr>\n",
       "    <tr>\n",
       "      <th>2</th>\n",
       "      <td>115.81</td>\n",
       "      <td>6</td>\n",
       "      <td>0.24</td>\n",
       "      <td>UK</td>\n",
       "      <td>6.84</td>\n",
       "      <td>979.23</td>\n",
       "      <td>1427.52</td>\n",
       "      <td>-11.22</td>\n",
       "      <td>4.74</td>\n",
       "      <td>233.43</td>\n",
       "      <td>-404.07</td>\n",
       "      <td>1.17</td>\n",
       "      <td>21.42</td>\n",
       "      <td>6</td>\n",
       "      <td>Very high</td>\n",
       "      <td>17585.36</td>\n",
       "      <td>NaN</td>\n",
       "    </tr>\n",
       "    <tr>\n",
       "      <th>3</th>\n",
       "      <td>48.99</td>\n",
       "      <td>9</td>\n",
       "      <td>1023.63</td>\n",
       "      <td>Rest</td>\n",
       "      <td>-12.75</td>\n",
       "      <td>1052.18</td>\n",
       "      <td>605.80</td>\n",
       "      <td>-9.75</td>\n",
       "      <td>11.46</td>\n",
       "      <td>261.27</td>\n",
       "      <td>-506.25</td>\n",
       "      <td>3.99</td>\n",
       "      <td>19.64</td>\n",
       "      <td>4</td>\n",
       "      <td>High</td>\n",
       "      <td>14621.10</td>\n",
       "      <td>NaN</td>\n",
       "    </tr>\n",
       "    <tr>\n",
       "      <th>4</th>\n",
       "      <td>71.39</td>\n",
       "      <td>6</td>\n",
       "      <td>1.68</td>\n",
       "      <td>Europe</td>\n",
       "      <td>-10.98</td>\n",
       "      <td>1235.64</td>\n",
       "      <td>-208.92</td>\n",
       "      <td>-11.45</td>\n",
       "      <td>12.76</td>\n",
       "      <td>332.18</td>\n",
       "      <td>-196.89</td>\n",
       "      <td>25.35</td>\n",
       "      <td>19.50</td>\n",
       "      <td>8</td>\n",
       "      <td>Medium</td>\n",
       "      <td>14624.56</td>\n",
       "      <td>NaN</td>\n",
       "    </tr>\n",
       "  </tbody>\n",
       "</table>\n",
       "</div>"
      ],
      "text/plain": [
       "       F1  F2       F3      F4     F5       F6       F7     F8     F9     F10  \\\n",
       "0  154.97   9     0.57     USA -14.34  1286.94  1913.38 -10.54   6.66  232.40   \n",
       "1   78.99   6     2.31     USA -16.17  1522.99  1458.10 -12.17   4.96  268.26   \n",
       "2  115.81   6     0.24      UK   6.84   979.23  1427.52 -11.22   4.74  233.43   \n",
       "3   48.99   9  1023.63    Rest -12.75  1052.18   605.80  -9.75  11.46  261.27   \n",
       "4   71.39   6     1.68  Europe -10.98  1235.64  -208.92 -11.45  12.76  332.18   \n",
       "\n",
       "      F11    F12    F13  F14        F15       F16  Target  \n",
       "0 -440.10  12.51  22.99    4        Low  22482.82     NaN  \n",
       "1 -328.74  21.03  20.80   12       High  17183.76     NaN  \n",
       "2 -404.07   1.17  21.42    6  Very high  17585.36     NaN  \n",
       "3 -506.25   3.99  19.64    4       High  14621.10     NaN  \n",
       "4 -196.89  25.35  19.50    8     Medium  14624.56     NaN  "
      ]
     },
     "execution_count": 35,
     "metadata": {},
     "output_type": "execute_result"
    }
   ],
   "source": [
    "#loading our test data\n",
    "data_test=pd.read_csv(\"CE802_P3_Test.csv\")\n",
    "data_test.head()\n"
   ]
  },
  {
   "cell_type": "markdown",
   "id": "54bf410a",
   "metadata": {},
   "source": [
    "#### creating a copy of test that we will be retaine for adding our prediction"
   ]
  },
  {
   "cell_type": "code",
   "execution_count": 36,
   "id": "336a59cf-c28a-44d1-be2e-accaae953984",
   "metadata": {},
   "outputs": [],
   "source": [
    "Testt=data_test.copy()"
   ]
  },
  {
   "cell_type": "code",
   "execution_count": 37,
   "id": "9eb9d279-7ea3-4fd0-8c8e-d1ffca4dd0ee",
   "metadata": {},
   "outputs": [],
   "source": [
    "# Encode labels in column 'species'.\n",
    "data_test['F15']= label_encoder.fit_transform(data_test['F15'])\n",
    "# generating dummy variables from the country \n",
    "data_test=pd.get_dummies(data_test, columns=['F4'])"
   ]
  },
  {
   "cell_type": "code",
   "execution_count": 38,
   "id": "5366161a-c4ae-461f-8541-d719c1e27521",
   "metadata": {},
   "outputs": [
    {
     "data": {
      "text/html": [
       "<div>\n",
       "<style scoped>\n",
       "    .dataframe tbody tr th:only-of-type {\n",
       "        vertical-align: middle;\n",
       "    }\n",
       "\n",
       "    .dataframe tbody tr th {\n",
       "        vertical-align: top;\n",
       "    }\n",
       "\n",
       "    .dataframe thead th {\n",
       "        text-align: right;\n",
       "    }\n",
       "</style>\n",
       "<table border=\"1\" class=\"dataframe\">\n",
       "  <thead>\n",
       "    <tr style=\"text-align: right;\">\n",
       "      <th></th>\n",
       "      <th>F1</th>\n",
       "      <th>F2</th>\n",
       "      <th>F3</th>\n",
       "      <th>F5</th>\n",
       "      <th>F6</th>\n",
       "      <th>F7</th>\n",
       "      <th>F8</th>\n",
       "      <th>F9</th>\n",
       "      <th>F10</th>\n",
       "      <th>F11</th>\n",
       "      <th>F12</th>\n",
       "      <th>F13</th>\n",
       "      <th>F14</th>\n",
       "      <th>F15</th>\n",
       "      <th>F16</th>\n",
       "      <th>Target</th>\n",
       "      <th>F4_Europe</th>\n",
       "      <th>F4_Rest</th>\n",
       "      <th>F4_UK</th>\n",
       "      <th>F4_USA</th>\n",
       "    </tr>\n",
       "  </thead>\n",
       "  <tbody>\n",
       "    <tr>\n",
       "      <th>172</th>\n",
       "      <td>119.14</td>\n",
       "      <td>15</td>\n",
       "      <td>0.63</td>\n",
       "      <td>2.61</td>\n",
       "      <td>1667.24</td>\n",
       "      <td>1433.08</td>\n",
       "      <td>-11.33</td>\n",
       "      <td>0.18</td>\n",
       "      <td>241.58</td>\n",
       "      <td>-253.26</td>\n",
       "      <td>11.37</td>\n",
       "      <td>15.99</td>\n",
       "      <td>8</td>\n",
       "      <td>4</td>\n",
       "      <td>26663.74</td>\n",
       "      <td>NaN</td>\n",
       "      <td>1</td>\n",
       "      <td>0</td>\n",
       "      <td>0</td>\n",
       "      <td>0</td>\n",
       "    </tr>\n",
       "    <tr>\n",
       "      <th>1063</th>\n",
       "      <td>88.98</td>\n",
       "      <td>12</td>\n",
       "      <td>6.03</td>\n",
       "      <td>-11.37</td>\n",
       "      <td>2015.06</td>\n",
       "      <td>2177.80</td>\n",
       "      <td>-12.52</td>\n",
       "      <td>6.14</td>\n",
       "      <td>282.39</td>\n",
       "      <td>-213.72</td>\n",
       "      <td>1.86</td>\n",
       "      <td>21.57</td>\n",
       "      <td>4</td>\n",
       "      <td>2</td>\n",
       "      <td>12916.38</td>\n",
       "      <td>NaN</td>\n",
       "      <td>1</td>\n",
       "      <td>0</td>\n",
       "      <td>0</td>\n",
       "      <td>0</td>\n",
       "    </tr>\n",
       "    <tr>\n",
       "      <th>103</th>\n",
       "      <td>133.50</td>\n",
       "      <td>21</td>\n",
       "      <td>0.72</td>\n",
       "      <td>-2.58</td>\n",
       "      <td>1072.73</td>\n",
       "      <td>748.78</td>\n",
       "      <td>-12.52</td>\n",
       "      <td>11.52</td>\n",
       "      <td>254.13</td>\n",
       "      <td>-527.67</td>\n",
       "      <td>8.82</td>\n",
       "      <td>21.53</td>\n",
       "      <td>10</td>\n",
       "      <td>4</td>\n",
       "      <td>6479.44</td>\n",
       "      <td>NaN</td>\n",
       "      <td>0</td>\n",
       "      <td>1</td>\n",
       "      <td>0</td>\n",
       "      <td>0</td>\n",
       "    </tr>\n",
       "    <tr>\n",
       "      <th>956</th>\n",
       "      <td>90.11</td>\n",
       "      <td>3</td>\n",
       "      <td>2.31</td>\n",
       "      <td>-1.98</td>\n",
       "      <td>1509.71</td>\n",
       "      <td>68.06</td>\n",
       "      <td>-9.87</td>\n",
       "      <td>2.18</td>\n",
       "      <td>219.43</td>\n",
       "      <td>-327.03</td>\n",
       "      <td>7.56</td>\n",
       "      <td>22.63</td>\n",
       "      <td>8</td>\n",
       "      <td>4</td>\n",
       "      <td>15042.28</td>\n",
       "      <td>NaN</td>\n",
       "      <td>0</td>\n",
       "      <td>0</td>\n",
       "      <td>0</td>\n",
       "      <td>1</td>\n",
       "    </tr>\n",
       "  </tbody>\n",
       "</table>\n",
       "</div>"
      ],
      "text/plain": [
       "          F1  F2    F3     F5       F6       F7     F8     F9     F10     F11  \\\n",
       "172   119.14  15  0.63   2.61  1667.24  1433.08 -11.33   0.18  241.58 -253.26   \n",
       "1063   88.98  12  6.03 -11.37  2015.06  2177.80 -12.52   6.14  282.39 -213.72   \n",
       "103   133.50  21  0.72  -2.58  1072.73   748.78 -12.52  11.52  254.13 -527.67   \n",
       "956    90.11   3  2.31  -1.98  1509.71    68.06  -9.87   2.18  219.43 -327.03   \n",
       "\n",
       "        F12    F13  F14  F15       F16  Target  F4_Europe  F4_Rest  F4_UK  \\\n",
       "172   11.37  15.99    8    4  26663.74     NaN          1        0      0   \n",
       "1063   1.86  21.57    4    2  12916.38     NaN          1        0      0   \n",
       "103    8.82  21.53   10    4   6479.44     NaN          0        1      0   \n",
       "956    7.56  22.63    8    4  15042.28     NaN          0        0      0   \n",
       "\n",
       "      F4_USA  \n",
       "172        0  \n",
       "1063       0  \n",
       "103        0  \n",
       "956        1  "
      ]
     },
     "execution_count": 38,
     "metadata": {},
     "output_type": "execute_result"
    }
   ],
   "source": [
    "data_test.sample(4)"
   ]
  },
  {
   "cell_type": "markdown",
   "id": "fd488b78",
   "metadata": {},
   "source": [
    "#### we must drop the Uknown class so that we can predict "
   ]
  },
  {
   "cell_type": "code",
   "execution_count": 39,
   "id": "0dbd8932-4098-4937-960d-1e0b54a718d1",
   "metadata": {},
   "outputs": [],
   "source": [
    "data_test_features= data_test.drop(['Target'], axis = 1)"
   ]
  },
  {
   "cell_type": "code",
   "execution_count": 40,
   "id": "3effaf26-830f-4669-a0dd-663b8453fa2f",
   "metadata": {},
   "outputs": [
    {
     "data": {
      "text/html": [
       "<div>\n",
       "<style scoped>\n",
       "    .dataframe tbody tr th:only-of-type {\n",
       "        vertical-align: middle;\n",
       "    }\n",
       "\n",
       "    .dataframe tbody tr th {\n",
       "        vertical-align: top;\n",
       "    }\n",
       "\n",
       "    .dataframe thead th {\n",
       "        text-align: right;\n",
       "    }\n",
       "</style>\n",
       "<table border=\"1\" class=\"dataframe\">\n",
       "  <thead>\n",
       "    <tr style=\"text-align: right;\">\n",
       "      <th></th>\n",
       "      <th>F1</th>\n",
       "      <th>F2</th>\n",
       "      <th>F3</th>\n",
       "      <th>F5</th>\n",
       "      <th>F6</th>\n",
       "      <th>F7</th>\n",
       "      <th>F8</th>\n",
       "      <th>F9</th>\n",
       "      <th>F10</th>\n",
       "      <th>F11</th>\n",
       "      <th>F12</th>\n",
       "      <th>F13</th>\n",
       "      <th>F14</th>\n",
       "      <th>F15</th>\n",
       "      <th>F16</th>\n",
       "      <th>F4_Europe</th>\n",
       "      <th>F4_Rest</th>\n",
       "      <th>F4_UK</th>\n",
       "      <th>F4_USA</th>\n",
       "    </tr>\n",
       "  </thead>\n",
       "  <tbody>\n",
       "    <tr>\n",
       "      <th>1496</th>\n",
       "      <td>135.11</td>\n",
       "      <td>18</td>\n",
       "      <td>10.14</td>\n",
       "      <td>2.61</td>\n",
       "      <td>390.34</td>\n",
       "      <td>1181.84</td>\n",
       "      <td>-12.15</td>\n",
       "      <td>11.80</td>\n",
       "      <td>224.01</td>\n",
       "      <td>-272.79</td>\n",
       "      <td>9.15</td>\n",
       "      <td>22.21</td>\n",
       "      <td>6</td>\n",
       "      <td>2</td>\n",
       "      <td>19004.04</td>\n",
       "      <td>0</td>\n",
       "      <td>0</td>\n",
       "      <td>0</td>\n",
       "      <td>1</td>\n",
       "    </tr>\n",
       "    <tr>\n",
       "      <th>1497</th>\n",
       "      <td>89.74</td>\n",
       "      <td>6</td>\n",
       "      <td>15.21</td>\n",
       "      <td>-23.97</td>\n",
       "      <td>1745.60</td>\n",
       "      <td>1240.02</td>\n",
       "      <td>-5.13</td>\n",
       "      <td>1.68</td>\n",
       "      <td>272.01</td>\n",
       "      <td>-331.17</td>\n",
       "      <td>21.99</td>\n",
       "      <td>20.91</td>\n",
       "      <td>10</td>\n",
       "      <td>4</td>\n",
       "      <td>15545.40</td>\n",
       "      <td>1</td>\n",
       "      <td>0</td>\n",
       "      <td>0</td>\n",
       "      <td>0</td>\n",
       "    </tr>\n",
       "    <tr>\n",
       "      <th>1498</th>\n",
       "      <td>69.63</td>\n",
       "      <td>24</td>\n",
       "      <td>0.15</td>\n",
       "      <td>-2.28</td>\n",
       "      <td>1764.78</td>\n",
       "      <td>1448.96</td>\n",
       "      <td>-13.66</td>\n",
       "      <td>3.24</td>\n",
       "      <td>197.32</td>\n",
       "      <td>-243.57</td>\n",
       "      <td>2.67</td>\n",
       "      <td>17.72</td>\n",
       "      <td>10</td>\n",
       "      <td>1</td>\n",
       "      <td>19250.20</td>\n",
       "      <td>0</td>\n",
       "      <td>0</td>\n",
       "      <td>0</td>\n",
       "      <td>1</td>\n",
       "    </tr>\n",
       "    <tr>\n",
       "      <th>1499</th>\n",
       "      <td>67.93</td>\n",
       "      <td>12</td>\n",
       "      <td>4.50</td>\n",
       "      <td>-3.27</td>\n",
       "      <td>1060.63</td>\n",
       "      <td>1378.76</td>\n",
       "      <td>-7.92</td>\n",
       "      <td>9.42</td>\n",
       "      <td>208.50</td>\n",
       "      <td>-355.41</td>\n",
       "      <td>5.46</td>\n",
       "      <td>25.12</td>\n",
       "      <td>4</td>\n",
       "      <td>4</td>\n",
       "      <td>14696.28</td>\n",
       "      <td>0</td>\n",
       "      <td>1</td>\n",
       "      <td>0</td>\n",
       "      <td>0</td>\n",
       "    </tr>\n",
       "  </tbody>\n",
       "</table>\n",
       "</div>"
      ],
      "text/plain": [
       "          F1  F2     F3     F5       F6       F7     F8     F9     F10  \\\n",
       "1496  135.11  18  10.14   2.61   390.34  1181.84 -12.15  11.80  224.01   \n",
       "1497   89.74   6  15.21 -23.97  1745.60  1240.02  -5.13   1.68  272.01   \n",
       "1498   69.63  24   0.15  -2.28  1764.78  1448.96 -13.66   3.24  197.32   \n",
       "1499   67.93  12   4.50  -3.27  1060.63  1378.76  -7.92   9.42  208.50   \n",
       "\n",
       "         F11    F12    F13  F14  F15       F16  F4_Europe  F4_Rest  F4_UK  \\\n",
       "1496 -272.79   9.15  22.21    6    2  19004.04          0        0      0   \n",
       "1497 -331.17  21.99  20.91   10    4  15545.40          1        0      0   \n",
       "1498 -243.57   2.67  17.72   10    1  19250.20          0        0      0   \n",
       "1499 -355.41   5.46  25.12    4    4  14696.28          0        1      0   \n",
       "\n",
       "      F4_USA  \n",
       "1496       1  \n",
       "1497       0  \n",
       "1498       1  \n",
       "1499       0  "
      ]
     },
     "execution_count": 40,
     "metadata": {},
     "output_type": "execute_result"
    }
   ],
   "source": [
    "data_test_features.tail(4)"
   ]
  },
  {
   "cell_type": "code",
   "execution_count": 41,
   "id": "93f32797-b3fc-4fd6-9b36-2bea1d2e4448",
   "metadata": {},
   "outputs": [],
   "source": [
    "linear.fit(x_train, y_train)\n",
    "predictions = linear.predict(data_test_features)"
   ]
  },
  {
   "cell_type": "markdown",
   "id": "9bd75e54",
   "metadata": {},
   "source": [
    "#### Replace the Target columns with our predictions"
   ]
  },
  {
   "cell_type": "code",
   "execution_count": 42,
   "id": "ab5ac3e2-ff9a-4672-8ded-b0fb89c0a7d6",
   "metadata": {},
   "outputs": [],
   "source": [
    "Testt['Target']= predictions"
   ]
  },
  {
   "cell_type": "code",
   "execution_count": 43,
   "id": "2858cdb8-a78c-4202-81e4-eca31baccace",
   "metadata": {},
   "outputs": [
    {
     "data": {
      "text/plain": [
       "(1500, 17)"
      ]
     },
     "execution_count": 43,
     "metadata": {},
     "output_type": "execute_result"
    }
   ],
   "source": [
    "Testt.shape"
   ]
  },
  {
   "cell_type": "code",
   "execution_count": 44,
   "id": "dee137df-c7e8-472f-91ab-5d3932fc99d4",
   "metadata": {},
   "outputs": [
    {
     "data": {
      "text/html": [
       "<div>\n",
       "<style scoped>\n",
       "    .dataframe tbody tr th:only-of-type {\n",
       "        vertical-align: middle;\n",
       "    }\n",
       "\n",
       "    .dataframe tbody tr th {\n",
       "        vertical-align: top;\n",
       "    }\n",
       "\n",
       "    .dataframe thead th {\n",
       "        text-align: right;\n",
       "    }\n",
       "</style>\n",
       "<table border=\"1\" class=\"dataframe\">\n",
       "  <thead>\n",
       "    <tr style=\"text-align: right;\">\n",
       "      <th></th>\n",
       "      <th>F1</th>\n",
       "      <th>F2</th>\n",
       "      <th>F3</th>\n",
       "      <th>F4</th>\n",
       "      <th>F5</th>\n",
       "      <th>F6</th>\n",
       "      <th>F7</th>\n",
       "      <th>F8</th>\n",
       "      <th>F9</th>\n",
       "      <th>F10</th>\n",
       "      <th>F11</th>\n",
       "      <th>F12</th>\n",
       "      <th>F13</th>\n",
       "      <th>F14</th>\n",
       "      <th>F15</th>\n",
       "      <th>F16</th>\n",
       "      <th>Target</th>\n",
       "    </tr>\n",
       "  </thead>\n",
       "  <tbody>\n",
       "    <tr>\n",
       "      <th>1495</th>\n",
       "      <td>58.13</td>\n",
       "      <td>12</td>\n",
       "      <td>22.05</td>\n",
       "      <td>UK</td>\n",
       "      <td>2.13</td>\n",
       "      <td>1014.70</td>\n",
       "      <td>567.18</td>\n",
       "      <td>-11.91</td>\n",
       "      <td>2.58</td>\n",
       "      <td>266.94</td>\n",
       "      <td>-181.02</td>\n",
       "      <td>12.93</td>\n",
       "      <td>12.35</td>\n",
       "      <td>8</td>\n",
       "      <td>Very high</td>\n",
       "      <td>17222.30</td>\n",
       "      <td>-0.155750</td>\n",
       "    </tr>\n",
       "    <tr>\n",
       "      <th>1496</th>\n",
       "      <td>135.11</td>\n",
       "      <td>18</td>\n",
       "      <td>10.14</td>\n",
       "      <td>USA</td>\n",
       "      <td>2.61</td>\n",
       "      <td>390.34</td>\n",
       "      <td>1181.84</td>\n",
       "      <td>-12.15</td>\n",
       "      <td>11.80</td>\n",
       "      <td>224.01</td>\n",
       "      <td>-272.79</td>\n",
       "      <td>9.15</td>\n",
       "      <td>22.21</td>\n",
       "      <td>6</td>\n",
       "      <td>Medium</td>\n",
       "      <td>19004.04</td>\n",
       "      <td>-0.152874</td>\n",
       "    </tr>\n",
       "    <tr>\n",
       "      <th>1497</th>\n",
       "      <td>89.74</td>\n",
       "      <td>6</td>\n",
       "      <td>15.21</td>\n",
       "      <td>Europe</td>\n",
       "      <td>-23.97</td>\n",
       "      <td>1745.60</td>\n",
       "      <td>1240.02</td>\n",
       "      <td>-5.13</td>\n",
       "      <td>1.68</td>\n",
       "      <td>272.01</td>\n",
       "      <td>-331.17</td>\n",
       "      <td>21.99</td>\n",
       "      <td>20.91</td>\n",
       "      <td>10</td>\n",
       "      <td>Very low</td>\n",
       "      <td>15545.40</td>\n",
       "      <td>0.271333</td>\n",
       "    </tr>\n",
       "    <tr>\n",
       "      <th>1498</th>\n",
       "      <td>69.63</td>\n",
       "      <td>24</td>\n",
       "      <td>0.15</td>\n",
       "      <td>USA</td>\n",
       "      <td>-2.28</td>\n",
       "      <td>1764.78</td>\n",
       "      <td>1448.96</td>\n",
       "      <td>-13.66</td>\n",
       "      <td>3.24</td>\n",
       "      <td>197.32</td>\n",
       "      <td>-243.57</td>\n",
       "      <td>2.67</td>\n",
       "      <td>17.72</td>\n",
       "      <td>10</td>\n",
       "      <td>Low</td>\n",
       "      <td>19250.20</td>\n",
       "      <td>-0.152874</td>\n",
       "    </tr>\n",
       "    <tr>\n",
       "      <th>1499</th>\n",
       "      <td>67.93</td>\n",
       "      <td>12</td>\n",
       "      <td>4.50</td>\n",
       "      <td>Rest</td>\n",
       "      <td>-3.27</td>\n",
       "      <td>1060.63</td>\n",
       "      <td>1378.76</td>\n",
       "      <td>-7.92</td>\n",
       "      <td>9.42</td>\n",
       "      <td>208.50</td>\n",
       "      <td>-355.41</td>\n",
       "      <td>5.46</td>\n",
       "      <td>25.12</td>\n",
       "      <td>4</td>\n",
       "      <td>Very low</td>\n",
       "      <td>14696.28</td>\n",
       "      <td>-0.163587</td>\n",
       "    </tr>\n",
       "  </tbody>\n",
       "</table>\n",
       "</div>"
      ],
      "text/plain": [
       "          F1  F2     F3      F4     F5       F6       F7     F8     F9  \\\n",
       "1495   58.13  12  22.05      UK   2.13  1014.70   567.18 -11.91   2.58   \n",
       "1496  135.11  18  10.14     USA   2.61   390.34  1181.84 -12.15  11.80   \n",
       "1497   89.74   6  15.21  Europe -23.97  1745.60  1240.02  -5.13   1.68   \n",
       "1498   69.63  24   0.15     USA  -2.28  1764.78  1448.96 -13.66   3.24   \n",
       "1499   67.93  12   4.50    Rest  -3.27  1060.63  1378.76  -7.92   9.42   \n",
       "\n",
       "         F10     F11    F12    F13  F14        F15       F16    Target  \n",
       "1495  266.94 -181.02  12.93  12.35    8  Very high  17222.30 -0.155750  \n",
       "1496  224.01 -272.79   9.15  22.21    6     Medium  19004.04 -0.152874  \n",
       "1497  272.01 -331.17  21.99  20.91   10   Very low  15545.40  0.271333  \n",
       "1498  197.32 -243.57   2.67  17.72   10        Low  19250.20 -0.152874  \n",
       "1499  208.50 -355.41   5.46  25.12    4   Very low  14696.28 -0.163587  "
      ]
     },
     "execution_count": 44,
     "metadata": {},
     "output_type": "execute_result"
    }
   ],
   "source": [
    "Testt.tail()"
   ]
  },
  {
   "cell_type": "code",
   "execution_count": 45,
   "id": "6eed5d99-3f60-4449-9566-597605a9b945",
   "metadata": {},
   "outputs": [],
   "source": [
    "#generating new test set dataframe\n",
    "data_test.to_csv('CE802_P3_Test.csv', index = False)"
   ]
  }
 ],
 "metadata": {
  "kernelspec": {
   "display_name": "Python 3 (ipykernel)",
   "language": "python",
   "name": "python3"
  },
  "language_info": {
   "codemirror_mode": {
    "name": "ipython",
    "version": 3
   },
   "file_extension": ".py",
   "mimetype": "text/x-python",
   "name": "python",
   "nbconvert_exporter": "python",
   "pygments_lexer": "ipython3",
   "version": "3.9.7"
  }
 },
 "nbformat": 4,
 "nbformat_minor": 5
}
