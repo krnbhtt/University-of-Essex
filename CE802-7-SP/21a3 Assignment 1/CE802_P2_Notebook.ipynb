{
 "cells": [
  {
   "cell_type": "markdown",
   "id": "4191bccb",
   "metadata": {
    "papermill": {
     "duration": 0.047166,
     "end_time": "2021-12-27T16:55:29.742801",
     "exception": false,
     "start_time": "2021-12-27T16:55:29.695635",
     "status": "completed"
    },
    "tags": []
   },
   "source": [
    "### 1. Data Processing"
   ]
  },
  {
   "cell_type": "markdown",
   "id": "7dd7b6a9",
   "metadata": {},
   "source": [
    "### Importing the required and necessary library packages"
   ]
  },
  {
   "cell_type": "code",
   "execution_count": 1,
   "id": "0f11ac88",
   "metadata": {
    "papermill": {
     "duration": 1.094658,
     "end_time": "2021-12-27T16:55:30.882717",
     "exception": false,
     "start_time": "2021-12-27T16:55:29.788059",
     "status": "completed"
    },
    "tags": []
   },
   "outputs": [],
   "source": [
    "import pandas as pd\n",
    "import numpy as np\n",
    "import matplotlib.pyplot as plt\n",
    "import seaborn as sns\n",
    "%matplotlib inline\n",
    "import warnings\n",
    "warnings.filterwarnings('ignore')\n"
   ]
  },
  {
   "cell_type": "markdown",
   "id": "10d31b8d",
   "metadata": {},
   "source": [
    "### Loading the data"
   ]
  },
  {
   "cell_type": "code",
   "execution_count": 2,
   "id": "f5c54fec",
   "metadata": {
    "papermill": {
     "duration": 0.064905,
     "end_time": "2021-12-27T16:55:30.993393",
     "exception": false,
     "start_time": "2021-12-27T16:55:30.928488",
     "status": "completed"
    },
    "tags": []
   },
   "outputs": [],
   "source": [
    "df_diabetes = pd.read_csv(\"CE802_P2_Data.csv\")"
   ]
  },
  {
   "cell_type": "markdown",
   "id": "35e90bf5",
   "metadata": {},
   "source": [
    "### checking the data if it is loaded perfectly or not"
   ]
  },
  {
   "cell_type": "code",
   "execution_count": 3,
   "id": "1de85cbd",
   "metadata": {
    "papermill": {
     "duration": 0.072782,
     "end_time": "2021-12-27T16:55:31.113441",
     "exception": false,
     "start_time": "2021-12-27T16:55:31.040659",
     "status": "completed"
    },
    "tags": []
   },
   "outputs": [
    {
     "data": {
      "text/html": [
       "<div>\n",
       "<style scoped>\n",
       "    .dataframe tbody tr th:only-of-type {\n",
       "        vertical-align: middle;\n",
       "    }\n",
       "\n",
       "    .dataframe tbody tr th {\n",
       "        vertical-align: top;\n",
       "    }\n",
       "\n",
       "    .dataframe thead th {\n",
       "        text-align: right;\n",
       "    }\n",
       "</style>\n",
       "<table border=\"1\" class=\"dataframe\">\n",
       "  <thead>\n",
       "    <tr style=\"text-align: right;\">\n",
       "      <th></th>\n",
       "      <th>F1</th>\n",
       "      <th>F2</th>\n",
       "      <th>F3</th>\n",
       "      <th>F4</th>\n",
       "      <th>F5</th>\n",
       "      <th>F6</th>\n",
       "      <th>F7</th>\n",
       "      <th>F8</th>\n",
       "      <th>F9</th>\n",
       "      <th>F10</th>\n",
       "      <th>F11</th>\n",
       "      <th>F12</th>\n",
       "      <th>F13</th>\n",
       "      <th>F14</th>\n",
       "      <th>F15</th>\n",
       "      <th>Class</th>\n",
       "    </tr>\n",
       "  </thead>\n",
       "  <tbody>\n",
       "    <tr>\n",
       "      <th>0</th>\n",
       "      <td>11.7</td>\n",
       "      <td>4.02</td>\n",
       "      <td>-4.34</td>\n",
       "      <td>9.90</td>\n",
       "      <td>29.79</td>\n",
       "      <td>89.58</td>\n",
       "      <td>0.63</td>\n",
       "      <td>23</td>\n",
       "      <td>10.35</td>\n",
       "      <td>158.56</td>\n",
       "      <td>-7.88</td>\n",
       "      <td>0.03</td>\n",
       "      <td>1</td>\n",
       "      <td>1.96</td>\n",
       "      <td>NaN</td>\n",
       "      <td>False</td>\n",
       "    </tr>\n",
       "    <tr>\n",
       "      <th>1</th>\n",
       "      <td>11.7</td>\n",
       "      <td>4.20</td>\n",
       "      <td>-3.68</td>\n",
       "      <td>10.98</td>\n",
       "      <td>17.46</td>\n",
       "      <td>179.58</td>\n",
       "      <td>0.05</td>\n",
       "      <td>11</td>\n",
       "      <td>8.30</td>\n",
       "      <td>110.56</td>\n",
       "      <td>-3.10</td>\n",
       "      <td>0.84</td>\n",
       "      <td>1</td>\n",
       "      <td>1.50</td>\n",
       "      <td>NaN</td>\n",
       "      <td>False</td>\n",
       "    </tr>\n",
       "    <tr>\n",
       "      <th>2</th>\n",
       "      <td>37.7</td>\n",
       "      <td>25.80</td>\n",
       "      <td>3.60</td>\n",
       "      <td>0.48</td>\n",
       "      <td>12.24</td>\n",
       "      <td>407.58</td>\n",
       "      <td>-0.29</td>\n",
       "      <td>230</td>\n",
       "      <td>4.06</td>\n",
       "      <td>254.56</td>\n",
       "      <td>6.68</td>\n",
       "      <td>21.60</td>\n",
       "      <td>10</td>\n",
       "      <td>7.63</td>\n",
       "      <td>NaN</td>\n",
       "      <td>True</td>\n",
       "    </tr>\n",
       "    <tr>\n",
       "      <th>3</th>\n",
       "      <td>7.7</td>\n",
       "      <td>5.40</td>\n",
       "      <td>0.30</td>\n",
       "      <td>9.42</td>\n",
       "      <td>19.86</td>\n",
       "      <td>119.58</td>\n",
       "      <td>0.29</td>\n",
       "      <td>12</td>\n",
       "      <td>7.61</td>\n",
       "      <td>66.56</td>\n",
       "      <td>-1.84</td>\n",
       "      <td>1.05</td>\n",
       "      <td>1</td>\n",
       "      <td>2.27</td>\n",
       "      <td>12.17</td>\n",
       "      <td>True</td>\n",
       "    </tr>\n",
       "    <tr>\n",
       "      <th>4</th>\n",
       "      <td>15.7</td>\n",
       "      <td>5.58</td>\n",
       "      <td>-2.58</td>\n",
       "      <td>16.34</td>\n",
       "      <td>17.49</td>\n",
       "      <td>146.58</td>\n",
       "      <td>-0.64</td>\n",
       "      <td>25</td>\n",
       "      <td>9.86</td>\n",
       "      <td>106.56</td>\n",
       "      <td>-4.36</td>\n",
       "      <td>1.68</td>\n",
       "      <td>1</td>\n",
       "      <td>1.28</td>\n",
       "      <td>NaN</td>\n",
       "      <td>False</td>\n",
       "    </tr>\n",
       "  </tbody>\n",
       "</table>\n",
       "</div>"
      ],
      "text/plain": [
       "     F1     F2    F3     F4     F5      F6    F7   F8     F9     F10   F11  \\\n",
       "0  11.7   4.02 -4.34   9.90  29.79   89.58  0.63   23  10.35  158.56 -7.88   \n",
       "1  11.7   4.20 -3.68  10.98  17.46  179.58  0.05   11   8.30  110.56 -3.10   \n",
       "2  37.7  25.80  3.60   0.48  12.24  407.58 -0.29  230   4.06  254.56  6.68   \n",
       "3   7.7   5.40  0.30   9.42  19.86  119.58  0.29   12   7.61   66.56 -1.84   \n",
       "4  15.7   5.58 -2.58  16.34  17.49  146.58 -0.64   25   9.86  106.56 -4.36   \n",
       "\n",
       "     F12  F13   F14    F15  Class  \n",
       "0   0.03    1  1.96    NaN  False  \n",
       "1   0.84    1  1.50    NaN  False  \n",
       "2  21.60   10  7.63    NaN   True  \n",
       "3   1.05    1  2.27  12.17   True  \n",
       "4   1.68    1  1.28    NaN  False  "
      ]
     },
     "execution_count": 3,
     "metadata": {},
     "output_type": "execute_result"
    }
   ],
   "source": [
    "df_diabetes.head()"
   ]
  },
  {
   "cell_type": "code",
   "execution_count": 4,
   "id": "a873e404",
   "metadata": {},
   "outputs": [
    {
     "data": {
      "text/html": [
       "<div>\n",
       "<style scoped>\n",
       "    .dataframe tbody tr th:only-of-type {\n",
       "        vertical-align: middle;\n",
       "    }\n",
       "\n",
       "    .dataframe tbody tr th {\n",
       "        vertical-align: top;\n",
       "    }\n",
       "\n",
       "    .dataframe thead th {\n",
       "        text-align: right;\n",
       "    }\n",
       "</style>\n",
       "<table border=\"1\" class=\"dataframe\">\n",
       "  <thead>\n",
       "    <tr style=\"text-align: right;\">\n",
       "      <th></th>\n",
       "      <th>F1</th>\n",
       "      <th>F2</th>\n",
       "      <th>F3</th>\n",
       "      <th>F4</th>\n",
       "      <th>F5</th>\n",
       "      <th>F6</th>\n",
       "      <th>F7</th>\n",
       "      <th>F8</th>\n",
       "      <th>F9</th>\n",
       "      <th>F10</th>\n",
       "      <th>F11</th>\n",
       "      <th>F12</th>\n",
       "      <th>F13</th>\n",
       "      <th>F14</th>\n",
       "      <th>F15</th>\n",
       "      <th>Class</th>\n",
       "    </tr>\n",
       "  </thead>\n",
       "  <tbody>\n",
       "    <tr>\n",
       "      <th>1495</th>\n",
       "      <td>37.7</td>\n",
       "      <td>33.90</td>\n",
       "      <td>5.80</td>\n",
       "      <td>6.62</td>\n",
       "      <td>10.71</td>\n",
       "      <td>362.58</td>\n",
       "      <td>-1.52</td>\n",
       "      <td>165</td>\n",
       "      <td>5.52</td>\n",
       "      <td>444.56</td>\n",
       "      <td>-1.96</td>\n",
       "      <td>15.30</td>\n",
       "      <td>10</td>\n",
       "      <td>6.93</td>\n",
       "      <td>8.76</td>\n",
       "      <td>False</td>\n",
       "    </tr>\n",
       "    <tr>\n",
       "      <th>1496</th>\n",
       "      <td>17.7</td>\n",
       "      <td>29.40</td>\n",
       "      <td>8.00</td>\n",
       "      <td>-0.48</td>\n",
       "      <td>3.54</td>\n",
       "      <td>-102.42</td>\n",
       "      <td>1.17</td>\n",
       "      <td>100</td>\n",
       "      <td>3.76</td>\n",
       "      <td>304.56</td>\n",
       "      <td>6.78</td>\n",
       "      <td>29.25</td>\n",
       "      <td>10</td>\n",
       "      <td>7.53</td>\n",
       "      <td>12.19</td>\n",
       "      <td>True</td>\n",
       "    </tr>\n",
       "    <tr>\n",
       "      <th>1497</th>\n",
       "      <td>11.7</td>\n",
       "      <td>2.13</td>\n",
       "      <td>-0.92</td>\n",
       "      <td>12.12</td>\n",
       "      <td>22.65</td>\n",
       "      <td>95.58</td>\n",
       "      <td>-0.57</td>\n",
       "      <td>10</td>\n",
       "      <td>8.47</td>\n",
       "      <td>76.56</td>\n",
       "      <td>-4.76</td>\n",
       "      <td>2.34</td>\n",
       "      <td>1</td>\n",
       "      <td>1.89</td>\n",
       "      <td>NaN</td>\n",
       "      <td>True</td>\n",
       "    </tr>\n",
       "    <tr>\n",
       "      <th>1498</th>\n",
       "      <td>11.7</td>\n",
       "      <td>2.94</td>\n",
       "      <td>0.64</td>\n",
       "      <td>11.68</td>\n",
       "      <td>17.49</td>\n",
       "      <td>146.58</td>\n",
       "      <td>1.47</td>\n",
       "      <td>20</td>\n",
       "      <td>8.57</td>\n",
       "      <td>116.56</td>\n",
       "      <td>-5.00</td>\n",
       "      <td>2.67</td>\n",
       "      <td>1</td>\n",
       "      <td>1.48</td>\n",
       "      <td>11.55</td>\n",
       "      <td>False</td>\n",
       "    </tr>\n",
       "    <tr>\n",
       "      <th>1499</th>\n",
       "      <td>27.7</td>\n",
       "      <td>30.75</td>\n",
       "      <td>7.76</td>\n",
       "      <td>1.84</td>\n",
       "      <td>8.67</td>\n",
       "      <td>137.58</td>\n",
       "      <td>-2.02</td>\n",
       "      <td>80</td>\n",
       "      <td>4.04</td>\n",
       "      <td>304.56</td>\n",
       "      <td>3.90</td>\n",
       "      <td>20.40</td>\n",
       "      <td>10</td>\n",
       "      <td>6.93</td>\n",
       "      <td>10.41</td>\n",
       "      <td>False</td>\n",
       "    </tr>\n",
       "  </tbody>\n",
       "</table>\n",
       "</div>"
      ],
      "text/plain": [
       "        F1     F2    F3     F4     F5      F6    F7   F8    F9     F10   F11  \\\n",
       "1495  37.7  33.90  5.80   6.62  10.71  362.58 -1.52  165  5.52  444.56 -1.96   \n",
       "1496  17.7  29.40  8.00  -0.48   3.54 -102.42  1.17  100  3.76  304.56  6.78   \n",
       "1497  11.7   2.13 -0.92  12.12  22.65   95.58 -0.57   10  8.47   76.56 -4.76   \n",
       "1498  11.7   2.94  0.64  11.68  17.49  146.58  1.47   20  8.57  116.56 -5.00   \n",
       "1499  27.7  30.75  7.76   1.84   8.67  137.58 -2.02   80  4.04  304.56  3.90   \n",
       "\n",
       "        F12  F13   F14    F15  Class  \n",
       "1495  15.30   10  6.93   8.76  False  \n",
       "1496  29.25   10  7.53  12.19   True  \n",
       "1497   2.34    1  1.89    NaN   True  \n",
       "1498   2.67    1  1.48  11.55  False  \n",
       "1499  20.40   10  6.93  10.41  False  "
      ]
     },
     "execution_count": 4,
     "metadata": {},
     "output_type": "execute_result"
    }
   ],
   "source": [
    "df_diabetes.tail()"
   ]
  },
  {
   "cell_type": "markdown",
   "id": "72ad8135",
   "metadata": {},
   "source": [
    "### plotting the heat map for the null values in column F15"
   ]
  },
  {
   "cell_type": "code",
   "execution_count": 5,
   "id": "f4d4baa3-6a9c-41f8-9f7d-6a858c9a783b",
   "metadata": {},
   "outputs": [
    {
     "data": {
      "text/plain": [
       "<AxesSubplot:>"
      ]
     },
     "execution_count": 5,
     "metadata": {},
     "output_type": "execute_result"
    },
    {
     "data": {
      "image/png": "[encoded data removed]",
      "text/plain": [
       "<Figure size 432x288 with 2 Axes>"
      ]
     },
     "metadata": {
      "needs_background": "light"
     },
     "output_type": "display_data"
    }
   ],
   "source": [
    "sns.heatmap(df_diabetes.isnull(),cmap =\"turbo\")"
   ]
  },
  {
   "cell_type": "markdown",
   "id": "c393c352",
   "metadata": {},
   "source": [
    "### checking if any other column is consist of null values"
   ]
  },
  {
   "cell_type": "code",
   "execution_count": 5,
   "id": "967627de-582b-44b8-8ec0-5204467a2893",
   "metadata": {},
   "outputs": [
    {
     "data": {
      "text/plain": [
       "F1         0\n",
       "F2         0\n",
       "F3         0\n",
       "F4         0\n",
       "F5         0\n",
       "F6         0\n",
       "F7         0\n",
       "F8         0\n",
       "F9         0\n",
       "F10        0\n",
       "F11        0\n",
       "F12        0\n",
       "F13        0\n",
       "F14        0\n",
       "F15      750\n",
       "Class      0\n",
       "dtype: int64"
      ]
     },
     "execution_count": 5,
     "metadata": {},
     "output_type": "execute_result"
    }
   ],
   "source": [
    "df_diabetes.isnull().sum()"
   ]
  },
  {
   "cell_type": "code",
   "execution_count": 6,
   "id": "68aab524-50e6-4832-b7f4-8768da612c15",
   "metadata": {},
   "outputs": [
    {
     "data": {
      "image/png": "[encoded data removed]",
      "text/plain": [
       "<Figure size 432x288 with 1 Axes>"
      ]
     },
     "metadata": {
      "needs_background": "light"
     },
     "output_type": "display_data"
    }
   ],
   "source": [
    "# distributions plot for feature 'F1'\n",
    "sns.distplot(df_diabetes.F1)\n",
    "plt.show()"
   ]
  },
  {
   "cell_type": "code",
   "execution_count": 7,
   "id": "8ddcd5f9-38bc-4f2b-a815-008698e04b50",
   "metadata": {},
   "outputs": [],
   "source": [
    "df_diabetes.fillna(df_diabetes.mean(), inplace=True)"
   ]
  },
  {
   "cell_type": "code",
   "execution_count": 8,
   "id": "5507915f-2f5c-454b-9d42-e1fb7651e9dc",
   "metadata": {},
   "outputs": [
    {
     "data": {
      "text/plain": [
       "F1       0\n",
       "F2       0\n",
       "F3       0\n",
       "F4       0\n",
       "F5       0\n",
       "F6       0\n",
       "F7       0\n",
       "F8       0\n",
       "F9       0\n",
       "F10      0\n",
       "F11      0\n",
       "F12      0\n",
       "F13      0\n",
       "F14      0\n",
       "F15      0\n",
       "Class    0\n",
       "dtype: int64"
      ]
     },
     "execution_count": 8,
     "metadata": {},
     "output_type": "execute_result"
    }
   ],
   "source": [
    "df_diabetes.isnull().sum()"
   ]
  },
  {
   "cell_type": "markdown",
   "id": "e36d3300",
   "metadata": {},
   "source": [
    "So there are no null values left in our data"
   ]
  },
  {
   "cell_type": "markdown",
   "id": "e6c630a4",
   "metadata": {},
   "source": [
    "### checking the shape of the data"
   ]
  },
  {
   "cell_type": "code",
   "execution_count": 9,
   "id": "2d1b8129",
   "metadata": {
    "papermill": {
     "duration": 0.065247,
     "end_time": "2021-12-27T16:55:31.227354",
     "exception": false,
     "start_time": "2021-12-27T16:55:31.162107",
     "status": "completed"
    },
    "tags": []
   },
   "outputs": [
    {
     "name": "stdout",
     "output_type": "stream",
     "text": [
      "(1500, 16)\n",
      "[False  True]\n"
     ]
    }
   ],
   "source": [
    "print(df_diabetes.shape)\n",
    "print(df_diabetes[\"Class\"].unique())"
   ]
  },
  {
   "cell_type": "markdown",
   "id": "166a24b5",
   "metadata": {
    "papermill": {
     "duration": 0.049087,
     "end_time": "2021-12-27T16:55:31.325687",
     "exception": false,
     "start_time": "2021-12-27T16:55:31.276600",
     "status": "completed"
    },
    "tags": []
   },
   "source": [
    "There are 1500 rows and 16 predictor columns for the diabetes class. "
   ]
  },
  {
   "cell_type": "markdown",
   "id": "53a9c887",
   "metadata": {
    "papermill": {
     "duration": 0.051117,
     "end_time": "2021-12-27T16:55:31.542978",
     "exception": false,
     "start_time": "2021-12-27T16:55:31.491861",
     "status": "completed"
    },
    "tags": []
   },
   "source": [
    "#### Now, we will split the dataset into training and test datasets and utilize various algorithms to predict the response variable class"
   ]
  },
  {
   "cell_type": "code",
   "execution_count": 10,
   "id": "87a82f7c",
   "metadata": {
    "papermill": {
     "duration": 0.240616,
     "end_time": "2021-12-27T16:55:31.832527",
     "exception": false,
     "start_time": "2021-12-27T16:55:31.591911",
     "status": "completed"
    },
    "tags": []
   },
   "outputs": [],
   "source": [
    "from sklearn.model_selection import train_test_split\n",
    "from sklearn.preprocessing import StandardScaler"
   ]
  },
  {
   "cell_type": "code",
   "execution_count": 11,
   "id": "01292bbd",
   "metadata": {
    "papermill": {
     "duration": 0.064727,
     "end_time": "2021-12-27T16:55:31.945597",
     "exception": false,
     "start_time": "2021-12-27T16:55:31.880870",
     "status": "completed"
    },
    "tags": []
   },
   "outputs": [],
   "source": [
    "X = df_diabetes[df_diabetes.columns[:-1]]\n",
    "Y = df_diabetes[df_diabetes.columns[-1]]\n",
    "scaler = StandardScaler()\n",
    "scaled= scaler.fit_transform(X)"
   ]
  },
  {
   "cell_type": "code",
   "execution_count": 12,
   "id": "044f19dc",
   "metadata": {
    "papermill": {
     "duration": 0.059331,
     "end_time": "2021-12-27T16:55:32.053335",
     "exception": false,
     "start_time": "2021-12-27T16:55:31.994004",
     "status": "completed"
    },
    "tags": []
   },
   "outputs": [],
   "source": [
    "X_train, X_test, Y_train, Y_test = train_test_split(scaled, Y, test_size=0.2, random_state=111)"
   ]
  },
  {
   "cell_type": "code",
   "execution_count": 13,
   "id": "fad6d2c6",
   "metadata": {
    "papermill": {
     "duration": 0.283011,
     "end_time": "2021-12-27T16:55:32.591361",
     "exception": false,
     "start_time": "2021-12-27T16:55:32.308350",
     "status": "completed"
    },
    "tags": []
   },
   "outputs": [
    {
     "data": {
      "text/plain": [
       "<AxesSubplot:xlabel='F13', ylabel='count'>"
      ]
     },
     "execution_count": 13,
     "metadata": {},
     "output_type": "execute_result"
    },
    {
     "data": {
      "image/png": "[encoded data removed]",
      "text/plain": [
       "<Figure size 432x288 with 1 Axes>"
      ]
     },
     "metadata": {
      "needs_background": "light"
     },
     "output_type": "display_data"
    }
   ],
   "source": [
    "sns.countplot(x=\"F13\", data=df_diabetes)"
   ]
  },
  {
   "cell_type": "code",
   "execution_count": 14,
   "id": "6bc55b38",
   "metadata": {
    "papermill": {
     "duration": 0.279658,
     "end_time": "2021-12-27T16:55:32.921340",
     "exception": false,
     "start_time": "2021-12-27T16:55:32.641682",
     "status": "completed"
    },
    "tags": []
   },
   "outputs": [
    {
     "data": {
      "text/plain": [
       "<AxesSubplot:xlabel='Class', ylabel='count'>"
      ]
     },
     "execution_count": 14,
     "metadata": {},
     "output_type": "execute_result"
    },
    {
     "data": {
      "image/png": "[encoded data removed]",
      "text/plain": [
       "<Figure size 432x288 with 1 Axes>"
      ]
     },
     "metadata": {
      "needs_background": "light"
     },
     "output_type": "display_data"
    }
   ],
   "source": [
    "sns.countplot(x=\"Class\", hue=\"F1\", data=df_diabetes)"
   ]
  },
  {
   "cell_type": "code",
   "execution_count": 15,
   "id": "9144e0bb",
   "metadata": {
    "papermill": {
     "duration": 0.321851,
     "end_time": "2021-12-27T16:55:33.293642",
     "exception": false,
     "start_time": "2021-12-27T16:55:32.971791",
     "status": "completed"
    },
    "tags": []
   },
   "outputs": [
    {
     "data": {
      "text/plain": [
       "<AxesSubplot:xlabel='F9', ylabel='Count'>"
      ]
     },
     "execution_count": 15,
     "metadata": {},
     "output_type": "execute_result"
    },
    {
     "data": {
      "image/png": "[encoded data removed]",
      "text/plain": [
       "<Figure size 432x288 with 1 Axes>"
      ]
     },
     "metadata": {
      "needs_background": "light"
     },
     "output_type": "display_data"
    }
   ],
   "source": [
    "sns.histplot(df_diabetes[\"F9\"], kde=False, bins=10)"
   ]
  },
  {
   "cell_type": "markdown",
   "id": "f1a9eb11",
   "metadata": {
    "papermill": {
     "duration": 0.057592,
     "end_time": "2021-12-27T16:55:33.515995",
     "exception": false,
     "start_time": "2021-12-27T16:55:33.458403",
     "status": "completed"
    },
    "tags": []
   },
   "source": [
    "## 3. Methods"
   ]
  },
  {
   "cell_type": "markdown",
   "id": "fd4161be",
   "metadata": {
    "papermill": {
     "duration": 0.052249,
     "end_time": "2021-12-27T16:55:33.625937",
     "exception": false,
     "start_time": "2021-12-27T16:55:33.573688",
     "status": "completed"
    },
    "tags": []
   },
   "source": [
    "### Model 1: Logistic Regression"
   ]
  },
  {
   "cell_type": "code",
   "execution_count": 16,
   "id": "a92bcc51",
   "metadata": {
    "papermill": {
     "duration": 0.145516,
     "end_time": "2021-12-27T16:55:33.823753",
     "exception": false,
     "start_time": "2021-12-27T16:55:33.678237",
     "status": "completed"
    },
    "tags": []
   },
   "outputs": [],
   "source": [
    "from sklearn.linear_model import LogisticRegression"
   ]
  },
  {
   "cell_type": "code",
   "execution_count": 17,
   "id": "33a98c06",
   "metadata": {
    "papermill": {
     "duration": 0.072862,
     "end_time": "2021-12-27T16:55:33.949275",
     "exception": false,
     "start_time": "2021-12-27T16:55:33.876413",
     "status": "completed"
    },
    "tags": []
   },
   "outputs": [
    {
     "data": {
      "text/plain": [
       "LogisticRegression()"
      ]
     },
     "execution_count": 17,
     "metadata": {},
     "output_type": "execute_result"
    }
   ],
   "source": [
    "logmodel = LogisticRegression()\n",
    "logmodel.fit(X_train, Y_train)"
   ]
  },
  {
   "cell_type": "markdown",
   "id": "91242e29",
   "metadata": {
    "papermill": {
     "duration": 0.052241,
     "end_time": "2021-12-27T16:55:34.054940",
     "exception": false,
     "start_time": "2021-12-27T16:55:34.002699",
     "status": "completed"
    },
    "tags": []
   },
   "source": [
    "### Evaluate Model 1"
   ]
  },
  {
   "cell_type": "code",
   "execution_count": 18,
   "id": "a5cfada4",
   "metadata": {
    "papermill": {
     "duration": 0.064438,
     "end_time": "2021-12-27T16:55:34.172083",
     "exception": false,
     "start_time": "2021-12-27T16:55:34.107645",
     "status": "completed"
    },
    "tags": []
   },
   "outputs": [],
   "source": [
    "predictions_log = logmodel.predict(X_test)"
   ]
  },
  {
   "cell_type": "code",
   "execution_count": 19,
   "id": "18501b92",
   "metadata": {
    "papermill": {
     "duration": 0.059882,
     "end_time": "2021-12-27T16:55:34.285570",
     "exception": false,
     "start_time": "2021-12-27T16:55:34.225688",
     "status": "completed"
    },
    "tags": []
   },
   "outputs": [],
   "source": [
    "from sklearn import metrics\n",
    "from sklearn.metrics import classification_report, confusion_matrix, f1_score"
   ]
  },
  {
   "cell_type": "code",
   "execution_count": 20,
   "id": "2f958be0",
   "metadata": {
    "papermill": {
     "duration": 0.070229,
     "end_time": "2021-12-27T16:55:34.408466",
     "exception": false,
     "start_time": "2021-12-27T16:55:34.338237",
     "status": "completed"
    },
    "tags": []
   },
   "outputs": [
    {
     "name": "stdout",
     "output_type": "stream",
     "text": [
      "              precision    recall  f1-score   support\n",
      "\n",
      "       False       0.84      0.85      0.85       170\n",
      "        True       0.80      0.78      0.79       130\n",
      "\n",
      "    accuracy                           0.82       300\n",
      "   macro avg       0.82      0.82      0.82       300\n",
      "weighted avg       0.82      0.82      0.82       300\n",
      "\n"
     ]
    }
   ],
   "source": [
    "print(classification_report(Y_test, predictions_log))"
   ]
  },
  {
   "cell_type": "code",
   "execution_count": 21,
   "id": "414b01f5",
   "metadata": {
    "papermill": {
     "duration": 0.065261,
     "end_time": "2021-12-27T16:55:34.528990",
     "exception": false,
     "start_time": "2021-12-27T16:55:34.463729",
     "status": "completed"
    },
    "tags": []
   },
   "outputs": [
    {
     "data": {
      "image/png": "[encoded data removed]",
      "text/plain": [
       "<Figure size 540x540 with 1 Axes>"
      ]
     },
     "metadata": {
      "needs_background": "light"
     },
     "output_type": "display_data"
    }
   ],
   "source": [
    "conf_matrix =(confusion_matrix(Y_test, predictions_log))\n",
    "\n",
    "# Print the confusion matrix using Matplotlib\n",
    "\n",
    "fig, ax = plt.subplots(figsize=(7.5, 7.5))\n",
    "ax.matshow(conf_matrix, cmap=plt.cm.Blues, alpha=0.3)\n",
    "for i in range(conf_matrix.shape[0]):\n",
    "    for j in range(conf_matrix.shape[1]):\n",
    "        ax.text(x=j, y=i,s=conf_matrix[i, j], va='center', ha='center', size='xx-large')\n",
    "plt.xlabel('Predictions', fontsize=18)\n",
    "plt.ylabel('Actuals', fontsize=18)\n",
    "plt.title('Confusion Matrix', fontsize=18)\n",
    "plt.show()"
   ]
  },
  {
   "cell_type": "code",
   "execution_count": 22,
   "id": "0abdb844",
   "metadata": {
    "papermill": {
     "duration": 0.066559,
     "end_time": "2021-12-27T16:55:34.649716",
     "exception": false,
     "start_time": "2021-12-27T16:55:34.583157",
     "status": "completed"
    },
    "tags": []
   },
   "outputs": [
    {
     "name": "stdout",
     "output_type": "stream",
     "text": [
      "0.7937743190661478\n"
     ]
    }
   ],
   "source": [
    "f1_log = f1_score(Y_test, predictions_log)\n",
    "print(f1_log)"
   ]
  },
  {
   "cell_type": "markdown",
   "id": "ed6526bc",
   "metadata": {
    "papermill": {
     "duration": 0.055428,
     "end_time": "2021-12-27T16:55:34.759539",
     "exception": false,
     "start_time": "2021-12-27T16:55:34.704111",
     "status": "completed"
    },
    "tags": []
   },
   "source": [
    "### Model 2: SVC"
   ]
  },
  {
   "cell_type": "code",
   "execution_count": 23,
   "id": "fc4bde45-0b35-402c-af82-bd91bd08ab94",
   "metadata": {},
   "outputs": [],
   "source": [
    "from sklearn.svm import SVC\n",
    "sv=SVC(kernel='linear')"
   ]
  },
  {
   "cell_type": "code",
   "execution_count": 24,
   "id": "7c3c25e1-4e76-4b1f-b53e-be21c71a252e",
   "metadata": {},
   "outputs": [
    {
     "data": {
      "text/plain": [
       "SVC(kernel='linear')"
      ]
     },
     "execution_count": 24,
     "metadata": {},
     "output_type": "execute_result"
    }
   ],
   "source": [
    "sv.fit(X_train,Y_train)"
   ]
  },
  {
   "cell_type": "code",
   "execution_count": 25,
   "id": "4f459083",
   "metadata": {
    "papermill": {
     "duration": 0.077784,
     "end_time": "2021-12-27T16:55:35.399029",
     "exception": false,
     "start_time": "2021-12-27T16:55:35.321245",
     "status": "completed"
    },
    "tags": []
   },
   "outputs": [],
   "source": [
    "predictions_sv = sv.predict(X_test)"
   ]
  },
  {
   "cell_type": "code",
   "execution_count": 26,
   "id": "96c8502a",
   "metadata": {
    "papermill": {
     "duration": 0.070557,
     "end_time": "2021-12-27T16:55:35.663305",
     "exception": false,
     "start_time": "2021-12-27T16:55:35.592748",
     "status": "completed"
    },
    "tags": []
   },
   "outputs": [
    {
     "name": "stdout",
     "output_type": "stream",
     "text": [
      "[[141  29]\n",
      " [ 25 105]]\n"
     ]
    }
   ],
   "source": [
    "print(confusion_matrix(Y_test, predictions_sv))"
   ]
  },
  {
   "cell_type": "code",
   "execution_count": 27,
   "id": "aac8cec5",
   "metadata": {
    "papermill": {
     "duration": 0.066613,
     "end_time": "2021-12-27T16:55:35.785409",
     "exception": false,
     "start_time": "2021-12-27T16:55:35.718796",
     "status": "completed"
    },
    "tags": []
   },
   "outputs": [
    {
     "name": "stdout",
     "output_type": "stream",
     "text": [
      "0.7954545454545455\n"
     ]
    }
   ],
   "source": [
    "f1_sv = f1_score(Y_test, predictions_sv)\n",
    "print(f1_sv)"
   ]
  },
  {
   "cell_type": "markdown",
   "id": "30f07dd6",
   "metadata": {
    "papermill": {
     "duration": 0.055682,
     "end_time": "2021-12-27T16:55:35.898153",
     "exception": false,
     "start_time": "2021-12-27T16:55:35.842471",
     "status": "completed"
    },
    "tags": []
   },
   "source": [
    "### Model 3: K Nearest Neighbors with tuning"
   ]
  },
  {
   "cell_type": "code",
   "execution_count": 28,
   "id": "6f6c0164-449b-46fe-863c-9d6014a0d26f",
   "metadata": {},
   "outputs": [],
   "source": [
    "from sklearn.neighbors import KNeighborsClassifier"
   ]
  },
  {
   "cell_type": "code",
   "execution_count": 29,
   "id": "baa4e8c9",
   "metadata": {
    "papermill": {
     "duration": 0.5828,
     "end_time": "2021-12-27T16:55:36.537464",
     "exception": false,
     "start_time": "2021-12-27T16:55:35.954664",
     "status": "completed"
    },
    "tags": []
   },
   "outputs": [],
   "source": [
    "error_rate = []\n",
    "for i in range(1,40):\n",
    "    knn = KNeighborsClassifier(n_neighbors=i)\n",
    "    knn.fit(X_train, Y_train)\n",
    "    pred_i = knn.predict(X_test)\n",
    "    error_rate.append(np.mean(pred_i != Y_test))"
   ]
  },
  {
   "cell_type": "code",
   "execution_count": 30,
   "id": "41cd3d11",
   "metadata": {
    "papermill": {
     "duration": 0.307329,
     "end_time": "2021-12-27T16:55:36.902939",
     "exception": false,
     "start_time": "2021-12-27T16:55:36.595610",
     "status": "completed"
    },
    "tags": []
   },
   "outputs": [
    {
     "data": {
      "text/plain": [
       "Text(0, 0.5, 'Error Rate')"
      ]
     },
     "execution_count": 30,
     "metadata": {},
     "output_type": "execute_result"
    },
    {
     "data": {
      "image/png": "[encoded data removed]",
      "text/plain": [
       "<Figure size 720x432 with 1 Axes>"
      ]
     },
     "metadata": {
      "needs_background": "light"
     },
     "output_type": "display_data"
    }
   ],
   "source": [
    "plt.figure(figsize=(10,6))\n",
    "plt.plot(range(1,40),error_rate,color='green', linestyle='dashed', marker='o',\n",
    "         markerfacecolor='purple', markersize=10)\n",
    "plt.title('Error Rate vs. K Value')\n",
    "plt.xlabel('K')\n",
    "plt.ylabel('Error Rate')"
   ]
  },
  {
   "cell_type": "code",
   "execution_count": 31,
   "id": "cd8fe604",
   "metadata": {
    "papermill": {
     "duration": 0.066134,
     "end_time": "2021-12-27T16:55:37.024450",
     "exception": false,
     "start_time": "2021-12-27T16:55:36.958316",
     "status": "completed"
    },
    "tags": []
   },
   "outputs": [
    {
     "data": {
      "text/plain": [
       "KNeighborsClassifier()"
      ]
     },
     "execution_count": 31,
     "metadata": {},
     "output_type": "execute_result"
    }
   ],
   "source": [
    "knn = KNeighborsClassifier(n_neighbors=5)\n",
    "knn.fit(X_train, Y_train)"
   ]
  },
  {
   "cell_type": "markdown",
   "id": "3a20317b",
   "metadata": {
    "papermill": {
     "duration": 0.054193,
     "end_time": "2021-12-27T16:55:37.134764",
     "exception": false,
     "start_time": "2021-12-27T16:55:37.080571",
     "status": "completed"
    },
    "tags": []
   },
   "source": [
    "### Evaluate Model 3"
   ]
  },
  {
   "cell_type": "code",
   "execution_count": 32,
   "id": "5795c2e5",
   "metadata": {
    "papermill": {
     "duration": 0.071963,
     "end_time": "2021-12-27T16:55:37.261843",
     "exception": false,
     "start_time": "2021-12-27T16:55:37.189880",
     "status": "completed"
    },
    "tags": []
   },
   "outputs": [],
   "source": [
    "predictions_knn2 = knn.predict(X_test)"
   ]
  },
  {
   "cell_type": "code",
   "execution_count": 33,
   "id": "48441f67",
   "metadata": {
    "papermill": {
     "duration": 0.070909,
     "end_time": "2021-12-27T16:55:37.387864",
     "exception": false,
     "start_time": "2021-12-27T16:55:37.316955",
     "status": "completed"
    },
    "tags": []
   },
   "outputs": [
    {
     "name": "stdout",
     "output_type": "stream",
     "text": [
      "              precision    recall  f1-score   support\n",
      "\n",
      "       False       0.76      0.79      0.78       170\n",
      "        True       0.71      0.67      0.69       130\n",
      "\n",
      "    accuracy                           0.74       300\n",
      "   macro avg       0.74      0.73      0.73       300\n",
      "weighted avg       0.74      0.74      0.74       300\n",
      "\n"
     ]
    }
   ],
   "source": [
    "print(classification_report(Y_test, predictions_knn2))"
   ]
  },
  {
   "cell_type": "code",
   "execution_count": 34,
   "id": "1be91327",
   "metadata": {
    "papermill": {
     "duration": 0.065381,
     "end_time": "2021-12-27T16:55:37.512341",
     "exception": false,
     "start_time": "2021-12-27T16:55:37.446960",
     "status": "completed"
    },
    "tags": []
   },
   "outputs": [
    {
     "data": {
      "image/png": "[encoded data removed]",
      "text/plain": [
       "<Figure size 540x540 with 1 Axes>"
      ]
     },
     "metadata": {
      "needs_background": "light"
     },
     "output_type": "display_data"
    }
   ],
   "source": [
    "conf_matrix =(confusion_matrix(Y_test, predictions_knn2))\n",
    "# Print the confusion matrix using Matplotlib\n",
    "fig, ax = plt.subplots(figsize=(7.5, 7.5))\n",
    "ax.matshow(conf_matrix, cmap=plt.cm.Blues, alpha=0.3)\n",
    "for i in range(conf_matrix.shape[0]):\n",
    "    for j in range(conf_matrix.shape[1]):\n",
    "        ax.text(x=j, y=i,s=conf_matrix[i, j], va='center', ha='center', size='xx-large')\n",
    "plt.xlabel('Predictions', fontsize=18)\n",
    "plt.ylabel('Actuals', fontsize=18)\n",
    "plt.title('Confusion Matrix', fontsize=18)\n",
    "plt.show()"
   ]
  },
  {
   "cell_type": "code",
   "execution_count": 35,
   "id": "1b1225ca",
   "metadata": {
    "papermill": {
     "duration": 0.068314,
     "end_time": "2021-12-27T16:55:37.637991",
     "exception": false,
     "start_time": "2021-12-27T16:55:37.569677",
     "status": "completed"
    },
    "tags": []
   },
   "outputs": [
    {
     "name": "stdout",
     "output_type": "stream",
     "text": [
      "0.6904761904761905\n"
     ]
    }
   ],
   "source": [
    "f1_knn2 = f1_score(Y_test, predictions_knn2)\n",
    "print(f1_knn2)"
   ]
  },
  {
   "cell_type": "markdown",
   "id": "14ac2d1b",
   "metadata": {
    "papermill": {
     "duration": 0.056272,
     "end_time": "2021-12-27T16:55:37.750030",
     "exception": false,
     "start_time": "2021-12-27T16:55:37.693758",
     "status": "completed"
    },
    "tags": []
   },
   "source": [
    "### Model 4: Decision Trees"
   ]
  },
  {
   "cell_type": "code",
   "execution_count": 36,
   "id": "c21a63c8",
   "metadata": {
    "papermill": {
     "duration": 0.093517,
     "end_time": "2021-12-27T16:55:37.900040",
     "exception": false,
     "start_time": "2021-12-27T16:55:37.806523",
     "status": "completed"
    },
    "tags": []
   },
   "outputs": [],
   "source": [
    "from sklearn.tree import DecisionTreeClassifier"
   ]
  },
  {
   "cell_type": "code",
   "execution_count": 37,
   "id": "6a7f9d21",
   "metadata": {
    "papermill": {
     "duration": 0.069206,
     "end_time": "2021-12-27T16:55:38.025462",
     "exception": false,
     "start_time": "2021-12-27T16:55:37.956256",
     "status": "completed"
    },
    "tags": []
   },
   "outputs": [
    {
     "data": {
      "text/plain": [
       "DecisionTreeClassifier()"
      ]
     },
     "execution_count": 37,
     "metadata": {},
     "output_type": "execute_result"
    }
   ],
   "source": [
    "dtree = DecisionTreeClassifier()\n",
    "dtree.fit(X_train, Y_train)"
   ]
  },
  {
   "cell_type": "markdown",
   "id": "5f4cc6e8",
   "metadata": {
    "papermill": {
     "duration": 0.057323,
     "end_time": "2021-12-27T16:55:38.140502",
     "exception": false,
     "start_time": "2021-12-27T16:55:38.083179",
     "status": "completed"
    },
    "tags": []
   },
   "source": [
    "### Evaluate Model 4"
   ]
  },
  {
   "cell_type": "code",
   "execution_count": 38,
   "id": "d35b2908",
   "metadata": {
    "papermill": {
     "duration": 0.067137,
     "end_time": "2021-12-27T16:55:38.263190",
     "exception": false,
     "start_time": "2021-12-27T16:55:38.196053",
     "status": "completed"
    },
    "tags": []
   },
   "outputs": [],
   "source": [
    "predictions_dt = dtree.predict(X_test)"
   ]
  },
  {
   "cell_type": "code",
   "execution_count": 39,
   "id": "3e89c6f1",
   "metadata": {
    "papermill": {
     "duration": 0.071263,
     "end_time": "2021-12-27T16:55:38.392479",
     "exception": false,
     "start_time": "2021-12-27T16:55:38.321216",
     "status": "completed"
    },
    "tags": []
   },
   "outputs": [
    {
     "name": "stdout",
     "output_type": "stream",
     "text": [
      "              precision    recall  f1-score   support\n",
      "\n",
      "       False       0.82      0.74      0.78       170\n",
      "        True       0.70      0.79      0.74       130\n",
      "\n",
      "    accuracy                           0.76       300\n",
      "   macro avg       0.76      0.77      0.76       300\n",
      "weighted avg       0.77      0.76      0.76       300\n",
      "\n"
     ]
    }
   ],
   "source": [
    "print(classification_report(Y_test, predictions_dt))"
   ]
  },
  {
   "cell_type": "code",
   "execution_count": 40,
   "id": "e5a90373-3bc4-4e4d-9ac5-5c217c406e6f",
   "metadata": {},
   "outputs": [
    {
     "name": "stdout",
     "output_type": "stream",
     "text": [
      "              precision    recall  f1-score   support\n",
      "\n",
      "       False       0.82      0.74      0.78       170\n",
      "        True       0.70      0.79      0.74       130\n",
      "\n",
      "    accuracy                           0.76       300\n",
      "   macro avg       0.76      0.77      0.76       300\n",
      "weighted avg       0.77      0.76      0.76       300\n",
      "\n"
     ]
    }
   ],
   "source": [
    "print(classification_report(Y_test, predictions_dt))"
   ]
  },
  {
   "cell_type": "code",
   "execution_count": 41,
   "id": "35c57fa0",
   "metadata": {
    "papermill": {
     "duration": 0.071663,
     "end_time": "2021-12-27T16:55:38.649443",
     "exception": false,
     "start_time": "2021-12-27T16:55:38.577780",
     "status": "completed"
    },
    "tags": []
   },
   "outputs": [
    {
     "name": "stdout",
     "output_type": "stream",
     "text": [
      "0.743682310469314\n"
     ]
    }
   ],
   "source": [
    "f1_dt = f1_score(Y_test, predictions_dt)\n",
    "print(f1_dt)"
   ]
  },
  {
   "cell_type": "markdown",
   "id": "963fd342",
   "metadata": {
    "papermill": {
     "duration": 0.060414,
     "end_time": "2021-12-27T16:55:38.770195",
     "exception": false,
     "start_time": "2021-12-27T16:55:38.709781",
     "status": "completed"
    },
    "tags": []
   },
   "source": [
    "### Model 5: Random Forests"
   ]
  },
  {
   "cell_type": "code",
   "execution_count": 42,
   "id": "f4c2fc27",
   "metadata": {
    "papermill": {
     "duration": 0.09535,
     "end_time": "2021-12-27T16:55:38.927998",
     "exception": false,
     "start_time": "2021-12-27T16:55:38.832648",
     "status": "completed"
    },
    "tags": []
   },
   "outputs": [],
   "source": [
    "from sklearn.ensemble import RandomForestClassifier"
   ]
  },
  {
   "cell_type": "code",
   "execution_count": 43,
   "id": "858812f4",
   "metadata": {
    "papermill": {
     "duration": 0.276273,
     "end_time": "2021-12-27T16:55:39.261547",
     "exception": false,
     "start_time": "2021-12-27T16:55:38.985274",
     "status": "completed"
    },
    "tags": []
   },
   "outputs": [
    {
     "data": {
      "text/plain": [
       "RandomForestClassifier()"
      ]
     },
     "execution_count": 43,
     "metadata": {},
     "output_type": "execute_result"
    }
   ],
   "source": [
    "rfc = RandomForestClassifier(n_estimators=100)\n",
    "rfc.fit(X_train, Y_train)"
   ]
  },
  {
   "cell_type": "markdown",
   "id": "c72f6fae",
   "metadata": {
    "papermill": {
     "duration": 0.064774,
     "end_time": "2021-12-27T16:55:39.386889",
     "exception": false,
     "start_time": "2021-12-27T16:55:39.322115",
     "status": "completed"
    },
    "tags": []
   },
   "source": [
    "### Evaluate Model 5"
   ]
  },
  {
   "cell_type": "code",
   "execution_count": 44,
   "id": "636dd7e2",
   "metadata": {
    "papermill": {
     "duration": 0.083765,
     "end_time": "2021-12-27T16:55:39.531268",
     "exception": false,
     "start_time": "2021-12-27T16:55:39.447503",
     "status": "completed"
    },
    "tags": []
   },
   "outputs": [],
   "source": [
    "predictions_rfc = rfc.predict(X_test)"
   ]
  },
  {
   "cell_type": "code",
   "execution_count": 45,
   "id": "3caeda1f",
   "metadata": {
    "papermill": {
     "duration": 0.091721,
     "end_time": "2021-12-27T16:55:39.690734",
     "exception": false,
     "start_time": "2021-12-27T16:55:39.599013",
     "status": "completed"
    },
    "tags": []
   },
   "outputs": [
    {
     "name": "stdout",
     "output_type": "stream",
     "text": [
      "              precision    recall  f1-score   support\n",
      "\n",
      "       False       0.90      0.84      0.87       170\n",
      "        True       0.80      0.88      0.84       130\n",
      "\n",
      "    accuracy                           0.86       300\n",
      "   macro avg       0.85      0.86      0.86       300\n",
      "weighted avg       0.86      0.86      0.86       300\n",
      "\n"
     ]
    }
   ],
   "source": [
    "print(classification_report(Y_test, predictions_rfc))"
   ]
  },
  {
   "cell_type": "code",
   "execution_count": 46,
   "id": "cd80e76c",
   "metadata": {
    "papermill": {
     "duration": 0.07286,
     "end_time": "2021-12-27T16:55:39.826152",
     "exception": false,
     "start_time": "2021-12-27T16:55:39.753292",
     "status": "completed"
    },
    "tags": []
   },
   "outputs": [
    {
     "data": {
      "image/png": "[encoded data removed]",
      "text/plain": [
       "<Figure size 540x540 with 1 Axes>"
      ]
     },
     "metadata": {
      "needs_background": "light"
     },
     "output_type": "display_data"
    }
   ],
   "source": [
    "conf_matrix =(confusion_matrix(Y_test, predictions_rfc))\n",
    "# Plotting the confusion matrix graph using Matplotlib\n",
    "fig, ax = plt.subplots(figsize=(7.5, 7.5))\n",
    "ax.matshow(conf_matrix, cmap=plt.cm.Blues, alpha=0.3)\n",
    "for i in range(conf_matrix.shape[0]):\n",
    "    for j in range(conf_matrix.shape[1]):\n",
    "        ax.text(x=j, y=i,s=conf_matrix[i, j], va='center', ha='center', size='xx-large')\n",
    "plt.xlabel('Predictions', fontsize=18)\n",
    "plt.ylabel('Actuals', fontsize=18)\n",
    "plt.title('Confusion Matrix', fontsize=18)\n",
    "plt.show()"
   ]
  },
  {
   "cell_type": "code",
   "execution_count": 47,
   "id": "90b74f63",
   "metadata": {
    "papermill": {
     "duration": 0.071335,
     "end_time": "2021-12-27T16:55:39.957012",
     "exception": false,
     "start_time": "2021-12-27T16:55:39.885677",
     "status": "completed"
    },
    "tags": []
   },
   "outputs": [
    {
     "name": "stdout",
     "output_type": "stream",
     "text": [
      "0.8424908424908425\n"
     ]
    }
   ],
   "source": [
    "f1_rfc = f1_score(Y_test, predictions_rfc)\n",
    "print(f1_rfc)"
   ]
  },
  {
   "cell_type": "code",
   "execution_count": 48,
   "id": "297ecf99-41df-41ff-aab6-dd793d599162",
   "metadata": {},
   "outputs": [
    {
     "name": "stdout",
     "output_type": "stream",
     "text": [
      "                Method  f1-score\n",
      "0  Logistic Regression  0.793774\n",
      "1                  SVM  0.795455\n",
      "2                 KNN2  0.690476\n",
      "3       Decision Trees  0.743682\n",
      "4        Random Forest  0.842491\n"
     ]
    }
   ],
   "source": [
    "data = {\"Method\":[\"Logistic Regression\", \"SVM\", \"KNN2\", \"Decision Trees\", \"Random Forest\"],\n",
    "       \"f1-score\":[f1_log, f1_sv, f1_knn2, f1_dt, f1_rfc]}\n",
    "\n",
    "results = pd.DataFrame(data)\n",
    "print(results)"
   ]
  },
  {
   "cell_type": "markdown",
   "id": "d256a62d",
   "metadata": {},
   "source": [
    "### Random Forest perfomed the best and we will use it to predict Test data"
   ]
  },
  {
   "cell_type": "markdown",
   "id": "c053f366-e39d-4e79-80d0-3def5895747b",
   "metadata": {},
   "source": [
    "### ROC Analysis:"
   ]
  },
  {
   "cell_type": "code",
   "execution_count": 50,
   "id": "22a38a84-6e4b-4cbb-a7bf-8922ea6ddb8e",
   "metadata": {},
   "outputs": [],
   "source": [
    "y_prob_train = logmodel.predict_proba(X_train)[:,1]"
   ]
  },
  {
   "cell_type": "code",
   "execution_count": 51,
   "id": "af6a15fb-20e7-4603-be48-5cb14c8ce6d0",
   "metadata": {},
   "outputs": [
    {
     "name": "stdout",
     "output_type": "stream",
     "text": [
      "AUC of train:  0.9311619369614398\n"
     ]
    },
    {
     "data": {
      "image/png": "[encoded data removed]",
      "text/plain": [
       "<Figure size 432x288 with 1 Axes>"
      ]
     },
     "metadata": {
      "needs_background": "light"
     },
     "output_type": "display_data"
    }
   ],
   "source": [
    "from sklearn.metrics import roc_auc_score, roc_curve\n",
    "\n",
    "print('AUC of train: ', roc_auc_score(Y_train, y_prob_train)) #for train data\n",
    "\n",
    "fpr, tpr, thresholds = roc_curve(Y_train, y_prob_train)\n",
    "\n",
    "plt.plot(fpr, tpr)\n",
    "plt.plot(fpr, fpr, 'r-')\n",
    "plt.xlabel('FPR')\n",
    "plt.ylabel('TPR')\n",
    "plt.title('ROC_Curve of Train data')\n",
    "plt.show()"
   ]
  },
  {
   "cell_type": "code",
   "execution_count": 52,
   "id": "7b1f1ef6-d2b1-4081-81c7-11601e5414d2",
   "metadata": {},
   "outputs": [],
   "source": [
    "# for X_test data\n",
    "y_prob = logmodel.predict_proba(X_test)[:,1]"
   ]
  },
  {
   "cell_type": "code",
   "execution_count": null,
   "id": "65af071f-7b2d-4838-8e49-695148b936d3",
   "metadata": {},
   "outputs": [],
   "source": []
  },
  {
   "cell_type": "code",
   "execution_count": 53,
   "id": "1c9a4219-0e2d-464a-a69c-3a6fe6e39a01",
   "metadata": {},
   "outputs": [
    {
     "name": "stdout",
     "output_type": "stream",
     "text": [
      "AUC of test:  0.9136651583710407\n"
     ]
    },
    {
     "data": {
      "image/png": "[encoded data removed]",
      "text/plain": [
       "<Figure size 432x288 with 1 Axes>"
      ]
     },
     "metadata": {
      "needs_background": "light"
     },
     "output_type": "display_data"
    }
   ],
   "source": [
    "print('AUC of test: ', roc_auc_score(Y_test, y_prob)) #for test data\n",
    "\n",
    "fpr, tpr, thresholds = roc_curve(Y_test, y_prob)\n",
    "\n",
    "plt.plot(fpr, tpr)\n",
    "plt.plot(fpr, fpr, 'r-')\n",
    "plt.xlabel('FPR')\n",
    "plt.ylabel('TPR')\n",
    "plt.title('ROC_Curve of Test data')\n",
    "plt.show()"
   ]
  },
  {
   "cell_type": "code",
   "execution_count": 54,
   "id": "7db7d28a",
   "metadata": {
    "papermill": {
     "duration": 0.428758,
     "end_time": "2021-12-27T16:55:40.948142",
     "exception": false,
     "start_time": "2021-12-27T16:55:40.519384",
     "status": "completed"
    },
    "tags": []
   },
   "outputs": [
    {
     "data": {
      "text/plain": [
       "Text(0, 0.5, 'Feature')"
      ]
     },
     "execution_count": 54,
     "metadata": {},
     "output_type": "execute_result"
    },
    {
     "data": {
      "image/png": "[encoded data removed]",
      "text/plain": [
       "<Figure size 864x432 with 1 Axes>"
      ]
     },
     "metadata": {
      "needs_background": "light"
     },
     "output_type": "display_data"
    }
   ],
   "source": [
    "plt.figure(figsize=(12,6))\n",
    "feature_imp = pd.Series(rfc.feature_importances_, index = X.columns).sort_values(ascending = False)\n",
    "feature_plot = sns.barplot(x = feature_imp, y = feature_imp.index)\n",
    "feature_plot.set_title(\"Feature Importance Plot\")\n",
    "feature_plot.set_xlabel(\"Score\")\n",
    "feature_plot.set_ylabel(\"Feature\")"
   ]
  },
  {
   "cell_type": "markdown",
   "id": "c5ab7537",
   "metadata": {},
   "source": [
    "### Now, we willl use logistic regression"
   ]
  },
  {
   "cell_type": "code",
   "execution_count": 56,
   "id": "dcc45990-19e3-446f-894c-78e039badb4a",
   "metadata": {},
   "outputs": [
    {
     "data": {
      "text/html": [
       "<div>\n",
       "<style scoped>\n",
       "    .dataframe tbody tr th:only-of-type {\n",
       "        vertical-align: middle;\n",
       "    }\n",
       "\n",
       "    .dataframe tbody tr th {\n",
       "        vertical-align: top;\n",
       "    }\n",
       "\n",
       "    .dataframe thead th {\n",
       "        text-align: right;\n",
       "    }\n",
       "</style>\n",
       "<table border=\"1\" class=\"dataframe\">\n",
       "  <thead>\n",
       "    <tr style=\"text-align: right;\">\n",
       "      <th></th>\n",
       "      <th>F1</th>\n",
       "      <th>F2</th>\n",
       "      <th>F3</th>\n",
       "      <th>F4</th>\n",
       "      <th>F5</th>\n",
       "      <th>F6</th>\n",
       "      <th>F7</th>\n",
       "      <th>F8</th>\n",
       "      <th>F9</th>\n",
       "      <th>F10</th>\n",
       "      <th>F11</th>\n",
       "      <th>F12</th>\n",
       "      <th>F13</th>\n",
       "      <th>F14</th>\n",
       "      <th>F15</th>\n",
       "      <th>Class</th>\n",
       "    </tr>\n",
       "  </thead>\n",
       "  <tbody>\n",
       "    <tr>\n",
       "      <th>0</th>\n",
       "      <td>37.7</td>\n",
       "      <td>33.15</td>\n",
       "      <td>9.26</td>\n",
       "      <td>3.88</td>\n",
       "      <td>5.91</td>\n",
       "      <td>-12.42</td>\n",
       "      <td>-0.77</td>\n",
       "      <td>165</td>\n",
       "      <td>3.32</td>\n",
       "      <td>334.56</td>\n",
       "      <td>4.42</td>\n",
       "      <td>18.75</td>\n",
       "      <td>10</td>\n",
       "      <td>7.78</td>\n",
       "      <td>NaN</td>\n",
       "      <td>NaN</td>\n",
       "    </tr>\n",
       "    <tr>\n",
       "      <th>1</th>\n",
       "      <td>17.7</td>\n",
       "      <td>24.30</td>\n",
       "      <td>6.58</td>\n",
       "      <td>3.40</td>\n",
       "      <td>10.47</td>\n",
       "      <td>-57.42</td>\n",
       "      <td>-0.77</td>\n",
       "      <td>20</td>\n",
       "      <td>3.22</td>\n",
       "      <td>224.56</td>\n",
       "      <td>0.28</td>\n",
       "      <td>15.30</td>\n",
       "      <td>10</td>\n",
       "      <td>8.13</td>\n",
       "      <td>NaN</td>\n",
       "      <td>NaN</td>\n",
       "    </tr>\n",
       "    <tr>\n",
       "      <th>2</th>\n",
       "      <td>37.7</td>\n",
       "      <td>17.55</td>\n",
       "      <td>10.16</td>\n",
       "      <td>-1.94</td>\n",
       "      <td>6.90</td>\n",
       "      <td>92.58</td>\n",
       "      <td>-0.84</td>\n",
       "      <td>215</td>\n",
       "      <td>4.71</td>\n",
       "      <td>94.56</td>\n",
       "      <td>6.98</td>\n",
       "      <td>17.70</td>\n",
       "      <td>10</td>\n",
       "      <td>10.08</td>\n",
       "      <td>13.27</td>\n",
       "      <td>NaN</td>\n",
       "    </tr>\n",
       "    <tr>\n",
       "      <th>3</th>\n",
       "      <td>11.7</td>\n",
       "      <td>2.61</td>\n",
       "      <td>-8.28</td>\n",
       "      <td>8.96</td>\n",
       "      <td>23.22</td>\n",
       "      <td>161.58</td>\n",
       "      <td>1.69</td>\n",
       "      <td>6</td>\n",
       "      <td>8.54</td>\n",
       "      <td>64.56</td>\n",
       "      <td>-6.52</td>\n",
       "      <td>1.32</td>\n",
       "      <td>1</td>\n",
       "      <td>1.80</td>\n",
       "      <td>11.73</td>\n",
       "      <td>NaN</td>\n",
       "    </tr>\n",
       "    <tr>\n",
       "      <th>4</th>\n",
       "      <td>7.7</td>\n",
       "      <td>5.55</td>\n",
       "      <td>1.52</td>\n",
       "      <td>8.50</td>\n",
       "      <td>21.66</td>\n",
       "      <td>95.58</td>\n",
       "      <td>2.41</td>\n",
       "      <td>22</td>\n",
       "      <td>10.74</td>\n",
       "      <td>128.56</td>\n",
       "      <td>-3.84</td>\n",
       "      <td>2.76</td>\n",
       "      <td>1</td>\n",
       "      <td>2.22</td>\n",
       "      <td>12.31</td>\n",
       "      <td>NaN</td>\n",
       "    </tr>\n",
       "  </tbody>\n",
       "</table>\n",
       "</div>"
      ],
      "text/plain": [
       "     F1     F2     F3    F4     F5      F6    F7   F8     F9     F10   F11  \\\n",
       "0  37.7  33.15   9.26  3.88   5.91  -12.42 -0.77  165   3.32  334.56  4.42   \n",
       "1  17.7  24.30   6.58  3.40  10.47  -57.42 -0.77   20   3.22  224.56  0.28   \n",
       "2  37.7  17.55  10.16 -1.94   6.90   92.58 -0.84  215   4.71   94.56  6.98   \n",
       "3  11.7   2.61  -8.28  8.96  23.22  161.58  1.69    6   8.54   64.56 -6.52   \n",
       "4   7.7   5.55   1.52  8.50  21.66   95.58  2.41   22  10.74  128.56 -3.84   \n",
       "\n",
       "     F12  F13    F14    F15  Class  \n",
       "0  18.75   10   7.78    NaN    NaN  \n",
       "1  15.30   10   8.13    NaN    NaN  \n",
       "2  17.70   10  10.08  13.27    NaN  \n",
       "3   1.32    1   1.80  11.73    NaN  \n",
       "4   2.76    1   2.22  12.31    NaN  "
      ]
     },
     "execution_count": 56,
     "metadata": {},
     "output_type": "execute_result"
    }
   ],
   "source": [
    "#loading our test data\n",
    "diabetes_test=pd.read_csv(\"CE802_P2_Test.csv\")\n",
    "diabetes_test.head()"
   ]
  },
  {
   "cell_type": "code",
   "execution_count": 57,
   "id": "43a214d0-bb4f-47f9-996e-23833789ff27",
   "metadata": {},
   "outputs": [],
   "source": [
    "diabetes_test['F15'] = diabetes_test['F15'].fillna(0)"
   ]
  },
  {
   "cell_type": "markdown",
   "id": "5e4af3f3",
   "metadata": {},
   "source": [
    "#### dropping the Uknown class so that we can predict "
   ]
  },
  {
   "cell_type": "code",
   "execution_count": 58,
   "id": "3c5de57e-9cd5-4b09-8b93-6c87235dcc8d",
   "metadata": {},
   "outputs": [],
   "source": [
    "main_cols = diabetes_test[diabetes_test.columns[:-1]]"
   ]
  },
  {
   "cell_type": "code",
   "execution_count": 59,
   "id": "355eb868-a71f-496a-aed7-cb135fa97cf7",
   "metadata": {},
   "outputs": [],
   "source": [
    "new_class = logmodel.predict(main_cols)"
   ]
  },
  {
   "cell_type": "markdown",
   "id": "6b7b674e",
   "metadata": {},
   "source": [
    "#### Replace the NaN in Test Class columns with our predictions"
   ]
  },
  {
   "cell_type": "code",
   "execution_count": 60,
   "id": "c287e264-a442-4df7-a9e5-3e87772a48e7",
   "metadata": {},
   "outputs": [],
   "source": [
    "diabetes_test['Class']= new_class "
   ]
  },
  {
   "cell_type": "code",
   "execution_count": 61,
   "id": "fa8a5335-d225-47c2-8907-daee14a74b1b",
   "metadata": {},
   "outputs": [
    {
     "data": {
      "text/html": [
       "<div>\n",
       "<style scoped>\n",
       "    .dataframe tbody tr th:only-of-type {\n",
       "        vertical-align: middle;\n",
       "    }\n",
       "\n",
       "    .dataframe tbody tr th {\n",
       "        vertical-align: top;\n",
       "    }\n",
       "\n",
       "    .dataframe thead th {\n",
       "        text-align: right;\n",
       "    }\n",
       "</style>\n",
       "<table border=\"1\" class=\"dataframe\">\n",
       "  <thead>\n",
       "    <tr style=\"text-align: right;\">\n",
       "      <th></th>\n",
       "      <th>F1</th>\n",
       "      <th>F2</th>\n",
       "      <th>F3</th>\n",
       "      <th>F4</th>\n",
       "      <th>F5</th>\n",
       "      <th>F6</th>\n",
       "      <th>F7</th>\n",
       "      <th>F8</th>\n",
       "      <th>F9</th>\n",
       "      <th>F10</th>\n",
       "      <th>F11</th>\n",
       "      <th>F12</th>\n",
       "      <th>F13</th>\n",
       "      <th>F14</th>\n",
       "      <th>F15</th>\n",
       "      <th>Class</th>\n",
       "    </tr>\n",
       "  </thead>\n",
       "  <tbody>\n",
       "    <tr>\n",
       "      <th>0</th>\n",
       "      <td>37.7</td>\n",
       "      <td>33.15</td>\n",
       "      <td>9.26</td>\n",
       "      <td>3.88</td>\n",
       "      <td>5.91</td>\n",
       "      <td>-12.42</td>\n",
       "      <td>-0.77</td>\n",
       "      <td>165</td>\n",
       "      <td>3.32</td>\n",
       "      <td>334.56</td>\n",
       "      <td>4.42</td>\n",
       "      <td>18.75</td>\n",
       "      <td>10</td>\n",
       "      <td>7.78</td>\n",
       "      <td>0.00</td>\n",
       "      <td>False</td>\n",
       "    </tr>\n",
       "    <tr>\n",
       "      <th>1</th>\n",
       "      <td>17.7</td>\n",
       "      <td>24.30</td>\n",
       "      <td>6.58</td>\n",
       "      <td>3.40</td>\n",
       "      <td>10.47</td>\n",
       "      <td>-57.42</td>\n",
       "      <td>-0.77</td>\n",
       "      <td>20</td>\n",
       "      <td>3.22</td>\n",
       "      <td>224.56</td>\n",
       "      <td>0.28</td>\n",
       "      <td>15.30</td>\n",
       "      <td>10</td>\n",
       "      <td>8.13</td>\n",
       "      <td>0.00</td>\n",
       "      <td>False</td>\n",
       "    </tr>\n",
       "    <tr>\n",
       "      <th>2</th>\n",
       "      <td>37.7</td>\n",
       "      <td>17.55</td>\n",
       "      <td>10.16</td>\n",
       "      <td>-1.94</td>\n",
       "      <td>6.90</td>\n",
       "      <td>92.58</td>\n",
       "      <td>-0.84</td>\n",
       "      <td>215</td>\n",
       "      <td>4.71</td>\n",
       "      <td>94.56</td>\n",
       "      <td>6.98</td>\n",
       "      <td>17.70</td>\n",
       "      <td>10</td>\n",
       "      <td>10.08</td>\n",
       "      <td>13.27</td>\n",
       "      <td>False</td>\n",
       "    </tr>\n",
       "    <tr>\n",
       "      <th>3</th>\n",
       "      <td>11.7</td>\n",
       "      <td>2.61</td>\n",
       "      <td>-8.28</td>\n",
       "      <td>8.96</td>\n",
       "      <td>23.22</td>\n",
       "      <td>161.58</td>\n",
       "      <td>1.69</td>\n",
       "      <td>6</td>\n",
       "      <td>8.54</td>\n",
       "      <td>64.56</td>\n",
       "      <td>-6.52</td>\n",
       "      <td>1.32</td>\n",
       "      <td>1</td>\n",
       "      <td>1.80</td>\n",
       "      <td>11.73</td>\n",
       "      <td>False</td>\n",
       "    </tr>\n",
       "    <tr>\n",
       "      <th>4</th>\n",
       "      <td>7.7</td>\n",
       "      <td>5.55</td>\n",
       "      <td>1.52</td>\n",
       "      <td>8.50</td>\n",
       "      <td>21.66</td>\n",
       "      <td>95.58</td>\n",
       "      <td>2.41</td>\n",
       "      <td>22</td>\n",
       "      <td>10.74</td>\n",
       "      <td>128.56</td>\n",
       "      <td>-3.84</td>\n",
       "      <td>2.76</td>\n",
       "      <td>1</td>\n",
       "      <td>2.22</td>\n",
       "      <td>12.31</td>\n",
       "      <td>False</td>\n",
       "    </tr>\n",
       "  </tbody>\n",
       "</table>\n",
       "</div>"
      ],
      "text/plain": [
       "     F1     F2     F3    F4     F5      F6    F7   F8     F9     F10   F11  \\\n",
       "0  37.7  33.15   9.26  3.88   5.91  -12.42 -0.77  165   3.32  334.56  4.42   \n",
       "1  17.7  24.30   6.58  3.40  10.47  -57.42 -0.77   20   3.22  224.56  0.28   \n",
       "2  37.7  17.55  10.16 -1.94   6.90   92.58 -0.84  215   4.71   94.56  6.98   \n",
       "3  11.7   2.61  -8.28  8.96  23.22  161.58  1.69    6   8.54   64.56 -6.52   \n",
       "4   7.7   5.55   1.52  8.50  21.66   95.58  2.41   22  10.74  128.56 -3.84   \n",
       "\n",
       "     F12  F13    F14    F15  Class  \n",
       "0  18.75   10   7.78   0.00  False  \n",
       "1  15.30   10   8.13   0.00  False  \n",
       "2  17.70   10  10.08  13.27  False  \n",
       "3   1.32    1   1.80  11.73  False  \n",
       "4   2.76    1   2.22  12.31  False  "
      ]
     },
     "execution_count": 61,
     "metadata": {},
     "output_type": "execute_result"
    }
   ],
   "source": [
    "diabetes_test.head()"
   ]
  },
  {
   "cell_type": "code",
   "execution_count": 62,
   "id": "f3423f27-6c44-4ae7-a9f5-9c14f3335b9d",
   "metadata": {},
   "outputs": [],
   "source": [
    "#creating test dataframe with prediction labels\n",
    "diabetes_test.to_csv('CE802_P2_Test.csv', index = False)"
   ]
  }
 ],
 "metadata": {
  "kernelspec": {
   "display_name": "Python 3 (ipykernel)",
   "language": "python",
   "name": "python3"
  },
  "language_info": {
   "codemirror_mode": {
    "name": "ipython",
    "version": 3
   },
   "file_extension": ".py",
   "mimetype": "text/x-python",
   "name": "python",
   "nbconvert_exporter": "python",
   "pygments_lexer": "ipython3",
   "version": "3.9.7"
  },
  "papermill": {
   "default_parameters": {},
   "duration": 23.024992,
   "end_time": "2021-12-27T16:55:41.949999",
   "environment_variables": {},
   "exception": null,
   "input_path": "__notebook__.ipynb",
   "output_path": "__notebook__.ipynb",
   "parameters": {},
   "start_time": "2021-12-27T16:55:18.925007",
   "version": "2.3.3"
  }
 },
 "nbformat": 4,
 "nbformat_minor": 5
}
