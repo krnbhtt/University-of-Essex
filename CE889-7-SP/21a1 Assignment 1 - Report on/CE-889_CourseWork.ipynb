{
 "cells": [
  {
   "cell_type": "code",
   "execution_count": 1,
   "id": "d02c0a89",
   "metadata": {
    "_cell_guid": "b1076dfc-b9ad-4769-8c92-a6c4dae69d19",
    "_uuid": "8f2839f25d086af736a60e9eeb907d3b93b6e0e5",
    "execution": {
     "iopub.execute_input": "2021-08-01T11:32:30.961710Z",
     "iopub.status.busy": "2021-08-01T11:32:30.959775Z",
     "iopub.status.idle": "2021-08-01T11:32:34.471793Z",
     "shell.execute_reply": "2021-08-01T11:32:34.470548Z",
     "shell.execute_reply.started": "2021-08-01T10:28:50.768459Z"
    },
    "papermill": {
     "duration": 3.529067,
     "end_time": "2021-08-01T11:32:34.472002",
     "exception": false,
     "start_time": "2021-08-01T11:32:30.942935",
     "status": "completed"
    },
    "tags": []
   },
   "outputs": [],
   "source": [
    "import numpy as np # linear algebra\n",
    "import torch\n",
    "import torch.nn as nn\n",
    "import pandas as pd\n",
    "\n",
    "from os.path import dirname, join as pjoin\n",
    "import scipy.io as sio\n",
    "mat_contents = sio.loadmat('WLDataCW.mat')"
   ]
  },
  {
   "cell_type": "code",
   "execution_count": 2,
   "id": "eef539fd",
   "metadata": {
    "execution": {
     "iopub.execute_input": "2021-08-01T11:32:34.513735Z",
     "iopub.status.busy": "2021-08-01T11:32:34.512110Z",
     "iopub.status.idle": "2021-08-01T11:32:34.579203Z",
     "shell.execute_reply": "2021-08-01T11:32:34.579851Z",
     "shell.execute_reply.started": "2021-08-01T10:28:54.557782Z"
    },
    "papermill": {
     "duration": 0.095275,
     "end_time": "2021-08-01T11:32:34.580036",
     "exception": false,
     "start_time": "2021-08-01T11:32:34.484761",
     "status": "completed"
    },
    "tags": []
   },
   "outputs": [
    {
     "name": "stdout",
     "output_type": "stream",
     "text": [
      "(360, 31744)\n",
      "(360, 2)\n"
     ]
    }
   ],
   "source": [
    "X = mat_contents['data']\n",
    "# y = mat_contents['label']\n",
    "mat_contents['label'] = mat_contents['label'].reshape(360)\n",
    "\n",
    "y_convert = pd.get_dummies(mat_contents['label'])\n",
    "# X = X.reshape(62*512,360)\n",
    "X = X.reshape(360, 62*512)\n",
    "\n",
    "y_convert = np.array(y_convert)\n",
    "# y = y_convert.reshape(2,360)\n",
    "y = y_convert\n",
    "\n",
    "print(X.shape)\n",
    "print(y.shape)"
   ]
  },
  {
   "cell_type": "code",
   "execution_count": 11,
   "id": "b5fbf9c9",
   "metadata": {
    "execution": {
     "iopub.execute_input": "2021-08-01T11:32:34.607902Z",
     "iopub.status.busy": "2021-08-01T11:32:34.606937Z",
     "iopub.status.idle": "2021-08-01T11:32:35.551734Z",
     "shell.execute_reply": "2021-08-01T11:32:35.552634Z",
     "shell.execute_reply.started": "2021-08-01T10:28:54.652661Z"
    },
    "papermill": {
     "duration": 0.962126,
     "end_time": "2021-08-01T11:32:35.552923",
     "exception": false,
     "start_time": "2021-08-01T11:32:34.590797",
     "status": "completed"
    },
    "tags": []
   },
   "outputs": [
    {
     "name": "stdout",
     "output_type": "stream",
     "text": [
      "x_train shape (194, 31744)\n",
      "x_test shape (166, 31744)\n",
      "y_train shape (194, 2)\n",
      "y_test shape (166, 2)\n"
     ]
    }
   ],
   "source": [
    "from sklearn.model_selection import train_test_split\n",
    "X_train, X_test, y_train, y_test = train_test_split(X, y, test_size=0.46, random_state=0)\n",
    "print(\"x_train shape\",X_train.shape)\n",
    "print(\"x_test shape\",X_test.shape)\n",
    "print(\"y_train shape\",y_train.shape)\n",
    "print(\"y_test shape\",y_test.shape)"
   ]
  },
  {
   "cell_type": "code",
   "execution_count": 12,
   "id": "dfd82452",
   "metadata": {
    "execution": {
     "iopub.execute_input": "2021-08-01T11:32:35.582168Z",
     "iopub.status.busy": "2021-08-01T11:32:35.581133Z",
     "iopub.status.idle": "2021-08-01T11:32:35.587076Z",
     "shell.execute_reply": "2021-08-01T11:32:35.588143Z",
     "shell.execute_reply.started": "2021-08-01T10:28:55.512752Z"
    },
    "papermill": {
     "duration": 0.023712,
     "end_time": "2021-08-01T11:32:35.588410",
     "exception": false,
     "start_time": "2021-08-01T11:32:35.564698",
     "status": "completed"
    },
    "tags": []
   },
   "outputs": [
    {
     "name": "stdout",
     "output_type": "stream",
     "text": [
      "x_train shape (31744, 194)\n",
      "x_test shape (31744, 166)\n",
      "y_train shape (2, 194)\n",
      "y_test shape (2, 166)\n"
     ]
    }
   ],
   "source": [
    "X_train_new = X_train.T\n",
    "X_test_new = X_test.T\n",
    "y_train_new = y_train.T\n",
    "y_test_new = y_test.T\n",
    "print(\"x_train shape\",X_train_new.shape)\n",
    "print(\"x_test shape\",X_test_new.shape)\n",
    "print(\"y_train shape\",y_train_new.shape)\n",
    "print(\"y_test shape\",y_test_new.shape)"
   ]
  },
  {
   "cell_type": "code",
   "execution_count": 13,
   "id": "74ce494d",
   "metadata": {
    "execution": {
     "iopub.execute_input": "2021-08-01T11:32:35.615629Z",
     "iopub.status.busy": "2021-08-01T11:32:35.614648Z",
     "iopub.status.idle": "2021-08-01T11:32:35.618094Z",
     "shell.execute_reply": "2021-08-01T11:32:35.617536Z",
     "shell.execute_reply.started": "2021-08-01T10:28:55.522626Z"
    },
    "papermill": {
     "duration": 0.018722,
     "end_time": "2021-08-01T11:32:35.618215",
     "exception": false,
     "start_time": "2021-08-01T11:32:35.599493",
     "status": "completed"
    },
    "tags": []
   },
   "outputs": [],
   "source": [
    "def sigmoid(z):\n",
    "        return 1/(1+np.exp(-z)) \n",
    "\n",
    "def relu(Z):\n",
    "    return np.maximum(0, Z)\n",
    "\n",
    "def sigmoid_der(x):\n",
    "    return sigmoid(x) *(1-sigmoid (x))"
   ]
  },
  {
   "cell_type": "code",
   "execution_count": 14,
   "id": "e9360357",
   "metadata": {
    "execution": {
     "iopub.execute_input": "2021-08-01T11:32:35.651646Z",
     "iopub.status.busy": "2021-08-01T11:32:35.650702Z",
     "iopub.status.idle": "2021-08-01T11:32:35.653651Z",
     "shell.execute_reply": "2021-08-01T11:32:35.654216Z",
     "shell.execute_reply.started": "2021-08-01T10:28:55.532278Z"
    },
    "papermill": {
     "duration": 0.025393,
     "end_time": "2021-08-01T11:32:35.654371",
     "exception": false,
     "start_time": "2021-08-01T11:32:35.628978",
     "status": "completed"
    },
    "tags": []
   },
   "outputs": [],
   "source": [
    "class NeuralNetwork:\n",
    "    def __init__(self,input_size, output):\n",
    "        self.INPUT_LAYER_SIZE = input_size\n",
    "        self.OUTPUT_LAYER_SIZE = output\n",
    "        \n",
    "        self.Wh = np.full((self.INPUT_LAYER_SIZE, self.OUTPUT_LAYER_SIZE), 0)\n",
    "        self.Bh = np.full((self.OUTPUT_LAYER_SIZE, 1), 0)\n",
    "\n",
    "    \n",
    "    \n",
    "    def feed_forward(self, X):\n",
    "        Zh = np.dot(self.Wh.T,X) + self.Bh\n",
    "        H = sigmoid(Zh)\n",
    "        return H\n",
    "    \n",
    "    def backward(self, X, y, yhat):\n",
    "        o_error = yhat - y \n",
    "        dcost_wo = (1/self.INPUT_LAYER_SIZE) * X.dot(o_error.T)\n",
    "        \n",
    "        bias = (1/self.INPUT_LAYER_SIZE) * o_error.sum()\n",
    "        \n",
    "        # Update Weights ================\n",
    "        self.Wh = self.Wh - 0.01 * dcost_wo\n",
    "        self.Bh = self.Bh - 0.01 * bias\n",
    "        \n",
    "        return o_error\n",
    "    \n",
    "    \n",
    "    def compute_accuracy(self, x_val, y_val):\n",
    "        predictions = []\n",
    "        total = 0\n",
    "        output = self.feed_forward(x_val)\n",
    "        pred = (output > 0.5).astype(int)\n",
    "        acc = np.sum(pred == y_val)/(72*2)\n",
    "        return acc"
   ]
  },
  {
   "cell_type": "code",
   "execution_count": 15,
   "id": "42f52cf0",
   "metadata": {
    "execution": {
     "iopub.execute_input": "2021-08-01T11:32:35.682820Z",
     "iopub.status.busy": "2021-08-01T11:32:35.681399Z",
     "iopub.status.idle": "2021-08-01T11:32:35.865357Z",
     "shell.execute_reply": "2021-08-01T11:32:35.866495Z",
     "shell.execute_reply.started": "2021-08-01T10:28:55.545736Z"
    },
    "papermill": {
     "duration": 0.202119,
     "end_time": "2021-08-01T11:32:35.866785",
     "exception": false,
     "start_time": "2021-08-01T11:32:35.664666",
     "status": "completed"
    },
    "tags": []
   },
   "outputs": [
    {
     "name": "stdout",
     "output_type": "stream",
     "text": [
      "0.0\n",
      "Accuracy:  73.61111111111111 %\n"
     ]
    }
   ],
   "source": [
    "a = NeuralNetwork(31744,2)\n",
    "for iteration in range(3000):\n",
    "    o = a.feed_forward(np.array(X_train_new))\n",
    "    error_out = a.backward(np.array(X_train_new), np.array(y_train_new), o)\n",
    "    print(error_out.sum())\n",
    "    accuracy = a.compute_accuracy(X_test_new, y_test_new)\n",
    "    print('Accuracy: ',accuracy * 100,'%')\n",
    "    if(error_out.sum() <= 0.0001 ):\n",
    "        break\n",
    "    print(iteration)\n",
    "    "
   ]
  },
  {
   "cell_type": "code",
   "execution_count": 16,
   "id": "577395a5",
   "metadata": {
    "execution": {
     "iopub.execute_input": "2021-08-01T11:32:35.919205Z",
     "iopub.status.busy": "2021-08-01T11:32:35.917930Z",
     "iopub.status.idle": "2021-08-01T11:32:41.072377Z",
     "shell.execute_reply": "2021-08-01T11:32:41.071645Z",
     "shell.execute_reply.started": "2021-08-01T10:29:46.400865Z"
    },
    "papermill": {
     "duration": 5.184009,
     "end_time": "2021-08-01T11:32:41.072530",
     "exception": false,
     "start_time": "2021-08-01T11:32:35.888521",
     "status": "completed"
    },
    "tags": []
   },
   "outputs": [],
   "source": [
    "from keras.wrappers.scikit_learn import KerasClassifier\n",
    "from keras.models import Sequential\n",
    "from keras.layers import Dense, Dropout, Flatten, BatchNormalization, AveragePooling2D, Conv2D\n",
    "from sklearn.model_selection import cross_val_score, cross_validate, KFold, StratifiedKFold, cross_val_predict\n",
    "from keras import layers,models\n",
    "from sklearn.metrics import multilabel_confusion_matrix, confusion_matrix"
   ]
  },
  {
   "cell_type": "code",
   "execution_count": 17,
   "id": "e95989e7",
   "metadata": {
    "execution": {
     "iopub.execute_input": "2021-08-01T11:32:41.102105Z",
     "iopub.status.busy": "2021-08-01T11:32:41.101371Z",
     "iopub.status.idle": "2021-08-01T11:32:58.016396Z",
     "shell.execute_reply": "2021-08-01T11:32:58.017382Z",
     "shell.execute_reply.started": "2021-08-01T11:31:00.431916Z"
    },
    "papermill": {
     "duration": 16.933632,
     "end_time": "2021-08-01T11:32:58.017645",
     "exception": false,
     "start_time": "2021-08-01T11:32:41.084013",
     "status": "completed"
    },
    "tags": []
   },
   "outputs": [
    {
     "name": "stdout",
     "output_type": "stream",
     "text": [
      "0.43611111111111106\n"
     ]
    }
   ],
   "source": [
    "from sklearn.neighbors import KNeighborsClassifier\n",
    "neigh = KNeighborsClassifier(n_neighbors=10)\n",
    "neigh.fit(X_train, y_train)\n",
    "y_new=np.argmax(y,axis=1)\n",
    "kfold = KFold(n_splits=5, shuffle=True)\n",
    "accuracies = cross_val_score(estimator = neigh,\n",
    "                             X = X,\n",
    "                             y = y_new,\n",
    "                             cv=kfold, scoring = 'accuracy')\n",
    "print(accuracies.mean())"
   ]
  },
  {
   "cell_type": "code",
   "execution_count": 18,
   "id": "0ccbd080",
   "metadata": {
    "execution": {
     "iopub.execute_input": "2021-08-01T11:32:58.055219Z",
     "iopub.status.busy": "2021-08-01T11:32:58.054262Z",
     "iopub.status.idle": "2021-08-01T11:33:14.224612Z",
     "shell.execute_reply": "2021-08-01T11:33:14.223690Z",
     "shell.execute_reply.started": "2021-08-01T11:13:28.257655Z"
    },
    "papermill": {
     "duration": 16.193254,
     "end_time": "2021-08-01T11:33:14.224759",
     "exception": false,
     "start_time": "2021-08-01T11:32:58.031505",
     "status": "completed"
    },
    "tags": []
   },
   "outputs": [
    {
     "name": "stdout",
     "output_type": "stream",
     "text": [
      "Epoch 1/50\n",
      "4/4 [==============================] - 1s 29ms/step - loss: 0.4414 - accuracy: 0.5103\n",
      "Epoch 2/50\n",
      "4/4 [==============================] - 0s 12ms/step - loss: 0.4326 - accuracy: 0.5515\n",
      "Epoch 3/50\n",
      "4/4 [==============================] - 0s 9ms/step - loss: 0.4177 - accuracy: 0.5773\n",
      "Epoch 4/50\n",
      "4/4 [==============================] - 0s 12ms/step - loss: 0.4465 - accuracy: 0.5464\n",
      "Epoch 5/50\n",
      "4/4 [==============================] - 0s 9ms/step - loss: 0.4930 - accuracy: 0.5000\n",
      "Epoch 6/50\n",
      "4/4 [==============================] - 0s 28ms/step - loss: 0.4442 - accuracy: 0.5464\n",
      "Epoch 7/50\n",
      "4/4 [==============================] - 0s 10ms/step - loss: 0.4569 - accuracy: 0.5361\n",
      "Epoch 8/50\n",
      "4/4 [==============================] - 0s 13ms/step - loss: 0.4259 - accuracy: 0.5619\n",
      "Epoch 9/50\n",
      "4/4 [==============================] - 0s 14ms/step - loss: 0.4808 - accuracy: 0.5155\n",
      "Epoch 10/50\n",
      "4/4 [==============================] - 0s 24ms/step - loss: 0.4384 - accuracy: 0.5515\n",
      "Epoch 11/50\n",
      "4/4 [==============================] - 0s 13ms/step - loss: 0.4384 - accuracy: 0.5567\n",
      "Epoch 12/50\n",
      "4/4 [==============================] - 0s 14ms/step - loss: 0.4364 - accuracy: 0.5619\n",
      "Epoch 13/50\n",
      "4/4 [==============================] - 0s 9ms/step - loss: 0.3913 - accuracy: 0.6031\n",
      "Epoch 14/50\n",
      "4/4 [==============================] - 0s 14ms/step - loss: 0.3632 - accuracy: 0.6289\n",
      "Epoch 15/50\n",
      "4/4 [==============================] - 0s 25ms/step - loss: 0.4869 - accuracy: 0.5103\n",
      "Epoch 16/50\n",
      "4/4 [==============================] - 0s 14ms/step - loss: 0.4036 - accuracy: 0.5928\n",
      "Epoch 17/50\n",
      "4/4 [==============================] - 0s 13ms/step - loss: 0.4424 - accuracy: 0.5515\n",
      "Epoch 18/50\n",
      "4/4 [==============================] - 0s 14ms/step - loss: 0.3700 - accuracy: 0.6289\n",
      "Epoch 19/50\n",
      "4/4 [==============================] - 0s 13ms/step - loss: 0.4077 - accuracy: 0.5928\n",
      "Epoch 20/50\n",
      "4/4 [==============================] - 0s 24ms/step - loss: 0.4372 - accuracy: 0.5567\n",
      "Epoch 21/50\n",
      "4/4 [==============================] - 0s 10ms/step - loss: 0.3823 - accuracy: 0.6134\n",
      "Epoch 22/50\n",
      "4/4 [==============================] - 0s 12ms/step - loss: 0.4035 - accuracy: 0.5928\n",
      "Epoch 23/50\n",
      "4/4 [==============================] - 0s 14ms/step - loss: 0.3967 - accuracy: 0.5928\n",
      "Epoch 24/50\n",
      "4/4 [==============================] - 0s 22ms/step - loss: 0.4001 - accuracy: 0.5928\n",
      "Epoch 25/50\n",
      "4/4 [==============================] - 0s 16ms/step - loss: 0.4168 - accuracy: 0.5773\n",
      "Epoch 26/50\n",
      "4/4 [==============================] - 0s 15ms/step - loss: 0.4009 - accuracy: 0.5979\n",
      "Epoch 27/50\n",
      "4/4 [==============================] - 0s 22ms/step - loss: 0.4091 - accuracy: 0.5876\n",
      "Epoch 28/50\n",
      "4/4 [==============================] - 0s 10ms/step - loss: 0.4384 - accuracy: 0.5567\n",
      "Epoch 29/50\n",
      "4/4 [==============================] - 0s 31ms/step - loss: 0.3980 - accuracy: 0.5979\n",
      "Epoch 30/50\n",
      "4/4 [==============================] - 0s 16ms/step - loss: 0.4274 - accuracy: 0.5722\n",
      "Epoch 31/50\n",
      "4/4 [==============================] - 0s 10ms/step - loss: 0.4216 - accuracy: 0.5670\n",
      "Epoch 32/50\n",
      "4/4 [==============================] - 0s 12ms/step - loss: 0.4018 - accuracy: 0.5928\n",
      "Epoch 33/50\n",
      "4/4 [==============================] - 0s 12ms/step - loss: 0.4082 - accuracy: 0.5876\n",
      "Epoch 34/50\n",
      "4/4 [==============================] - 0s 12ms/step - loss: 0.4479 - accuracy: 0.5464\n",
      "Epoch 35/50\n",
      "4/4 [==============================] - 0s 21ms/step - loss: 0.4240 - accuracy: 0.5722\n",
      "Epoch 36/50\n",
      "4/4 [==============================] - 0s 13ms/step - loss: 0.3904 - accuracy: 0.6082\n",
      "Epoch 37/50\n",
      "4/4 [==============================] - 0s 13ms/step - loss: 0.4047 - accuracy: 0.5876\n",
      "Epoch 38/50\n",
      "4/4 [==============================] - 0s 11ms/step - loss: 0.4388 - accuracy: 0.5567\n",
      "Epoch 39/50\n",
      "4/4 [==============================] - 0s 30ms/step - loss: 0.3822 - accuracy: 0.6186\n",
      "Epoch 40/50\n",
      "4/4 [==============================] - 0s 16ms/step - loss: 0.3945 - accuracy: 0.6031\n",
      "Epoch 41/50\n",
      "4/4 [==============================] - 0s 12ms/step - loss: 0.4087 - accuracy: 0.5876\n",
      "Epoch 42/50\n",
      "4/4 [==============================] - 0s 12ms/step - loss: 0.3506 - accuracy: 0.6443\n",
      "Epoch 43/50\n",
      "4/4 [==============================] - 0s 22ms/step - loss: 0.4308 - accuracy: 0.5619\n",
      "Epoch 44/50\n",
      "4/4 [==============================] - 0s 14ms/step - loss: 0.4244 - accuracy: 0.5722\n",
      "Epoch 45/50\n",
      "4/4 [==============================] - 0s 20ms/step - loss: 0.3899 - accuracy: 0.6134\n",
      "Epoch 46/50\n",
      "4/4 [==============================] - 0s 12ms/step - loss: 0.3552 - accuracy: 0.6443\n",
      "Epoch 47/50\n",
      "4/4 [==============================] - 0s 14ms/step - loss: 0.3662 - accuracy: 0.6340\n",
      "Epoch 48/50\n",
      "4/4 [==============================] - 0s 13ms/step - loss: 0.4066 - accuracy: 0.5876\n",
      "Epoch 49/50\n",
      "4/4 [==============================] - 0s 13ms/step - loss: 0.4255 - accuracy: 0.5722\n",
      "Epoch 50/50\n",
      "4/4 [==============================] - 0s 13ms/step - loss: 0.4203 - accuracy: 0.5722\n",
      "9/9 [==============================] - 1s 34ms/step - loss: 0.4566 - accuracy: 0.5729\n",
      "WARNING:tensorflow:5 out of the last 13 calls to <function Model.make_predict_function.<locals>.predict_function at 0x0000027A4CFB41F0> triggered tf.function retracing. Tracing is expensive and the excessive number of tracings could be due to (1) creating @tf.function repeatedly in a loop, (2) passing tensors with different shapes, (3) passing Python objects instead of tensors. For (1), please define your @tf.function outside of the loop. For (2), @tf.function has experimental_relax_shapes=True option that relaxes argument shapes that can avoid unnecessary retracing. For (3), please refer to https://www.tensorflow.org/guide/function#controlling_retracing and https://www.tensorflow.org/api_docs/python/tf/function for  more details.\n",
      "9/9 [==============================] - 1s 40ms/step - loss: 0.4623 - accuracy: 0.4931\n",
      "9/9 [==============================] - 1s 40ms/step - loss: 0.4507 - accuracy: 0.5174\n",
      "9/9 [==============================] - 1s 36ms/step - loss: 0.4587 - accuracy: 0.4931\n",
      "9/9 [==============================] - 1s 39ms/step - loss: 0.4703 - accuracy: 0.4826\n",
      "0.49444444444444435\n"
     ]
    }
   ],
   "source": [
    "def make_classifier():\n",
    "    model = models.Sequential()\n",
    "    model.add(layers.Dense(128, activation='relu', input_dim=31744))\n",
    "    model.add(layers.Dropout(rate = 0.1))\n",
    "    model.add(layers.Dense(64, activation='relu'))\n",
    "    model.add(layers.Dropout(rate = 0.1))\n",
    "    model.add(layers.Dense(32, activation='relu'))\n",
    "    model.add(layers.Dropout(rate = 0.1))\n",
    "    model.add(layers.Dense(16, activation='relu'))\n",
    "    model.add(layers.Dropout(rate = 0.2))\n",
    "    model.add(layers.Dense(8, activation='relu'))\n",
    "    model.add(layers.Dropout(rate = 0.2))\n",
    "    model.add(Flatten())\n",
    "    model.add(layers.Dense(2, activation='softmax'))\n",
    "\n",
    "\n",
    "    model.compile(optimizer='adam', \n",
    "                  loss='mse',\n",
    "                  metrics=['accuracy'])\n",
    "    return model\n",
    "\n",
    "\n",
    "# Define the K-fold Cross Validator\n",
    "kfold = KFold(n_splits=5, shuffle=True)\n",
    "classifier = KerasClassifier(build_fn=make_classifier, verbose=1)\n",
    "\n",
    "# Fit data to model\n",
    "classifier.fit(X_train, y_train,batch_size=64, epochs = 50)\n",
    "\n",
    "\n",
    "y_new=np.argmax(y,axis=1)\n",
    "\n",
    "accuracies = cross_val_score(estimator = classifier,\n",
    "                             X = X,\n",
    "                             y = y_new,\n",
    "                             cv=kfold, scoring = 'accuracy')\n",
    "print(accuracies.mean())\n"
   ]
  },
  {
   "cell_type": "code",
   "execution_count": null,
   "id": "59413cb4",
   "metadata": {},
   "outputs": [],
   "source": []
  }
 ],
 "metadata": {
  "kernelspec": {
   "display_name": "Python 3 (ipykernel)",
   "language": "python",
   "name": "python3"
  },
  "language_info": {
   "codemirror_mode": {
    "name": "ipython",
    "version": 3
   },
   "file_extension": ".py",
   "mimetype": "text/x-python",
   "name": "python",
   "nbconvert_exporter": "python",
   "pygments_lexer": "ipython3",
   "version": "3.9.7"
  },
  "papermill": {
   "default_parameters": {},
   "duration": 54.840992,
   "end_time": "2021-08-01T11:33:17.464309",
   "environment_variables": {},
   "exception": null,
   "input_path": "__notebook__.ipynb",
   "output_path": "__notebook__.ipynb",
   "parameters": {},
   "start_time": "2021-08-01T11:32:22.623317",
   "version": "2.3.3"
  }
 },
 "nbformat": 4,
 "nbformat_minor": 5
}
